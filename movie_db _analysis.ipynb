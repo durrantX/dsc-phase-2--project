{
 "cells": [
  {
   "cell_type": "markdown",
   "metadata": {},
   "source": [
    "## Final Project Submission\n",
    "\n",
    "Please fill out:\n",
    "* Student name:  Deon Durrant\n",
    "* Student pace: self paced \n",
    "* Scheduled project review date/time: \n",
    "* Instructor name: Mark Bardour\n",
    "* Blog post URL:\n"
   ]
  },
  {
   "cell_type": "markdown",
   "metadata": {},
   "source": [
    "\n",
    "# Project Overview\n",
    "\n",
    "This project investigates movie data sourced from Box Office Mojo (BOM) and the Internet Movie Database (IMDB) for the years 2010 to 2018. The aim is to offer insights to GAT INC, assisting in their decision-making process regarding potential expansion into the movie production industry.\n",
    "\n",
    "The analysis encompasses fundamental market metrics and extends to additional metrics beyond the project's scope, providing a comprehensive view of the industry landscape.\n",
    "\n",
    "# Business Challenge\n",
    "\n",
    "GAT INC aims to diversify its portfolio as a movie studio by aligning movie audience preferences with different market segments.\n",
    "\n",
    "The focus lies in identifying movie genres, assessing movie durations, and understanding their roles as predictors of sales. Through market segmentation and the exploration of the relationships between these variables, the study aims to provide valuable insights. Trends and patterns related to movie genres, ratings, movie durations, domestic and foreign sales, and global sales are analyzed.\n",
    "\n",
    "# Data Understanding \n",
    "\n",
    "Understanding the data involves consolidating information from two distinct movie databases covering the years 2010 to 2018. The dataset originates from two separate sources: a SQL database and a CSV file. Prior to merging, thorough preprocessing and cleaning procedures are applied. Additionally, feature engineering techniques are utilized to establish a new market segment. To support initial insights and enhance visualization capabilities, categorical variable is encoded."
   ]
  },
  {
   "cell_type": "markdown",
   "metadata": {},
   "source": [
    "# Exploratory Data Analysis\n",
    "During the exploratory data analysis phase, I will investigate patterns, variations, and other characteristics relevant to the business inquiries. Simultaneously, I will scrutinize the data for irregularities and recognize any constraints it may have.\n",
    "\n",
    "Begin by importing the data and converting it into a pandas dataframe."
   ]
  },
  {
   "cell_type": "code",
   "execution_count": 1,
   "metadata": {},
   "outputs": [],
   "source": [
    "#Import relevant libraires\n",
    "\n",
    "import pandas as pd\n",
    "import numpy as np\n",
    "import matplotlib.pyplot as plt\n",
    "%matplotlib inline\n",
    "import seaborn as sns\n",
    "import statsmodels.api as sm\n"
   ]
  },
  {
   "cell_type": "markdown",
   "metadata": {},
   "source": [
    "# Importing the databases\n",
    "Data from IMDB is located in a SQLite database will be imported first.\n",
    "\n",
    "Data from the Box office Mojo is a csv file "
   ]
  },
  {
   "cell_type": "code",
   "execution_count": 2,
   "metadata": {},
   "outputs": [],
   "source": [
    "# Importing the IMDB database\n",
    "#Connect to the database\n",
    "import sqlite3 \n",
    "conn = sqlite3.connect('im.db')\n"
   ]
  },
  {
   "cell_type": "code",
   "execution_count": 3,
   "metadata": {},
   "outputs": [],
   "source": [
    "#Create cursor \n",
    "cur = conn.cursor()"
   ]
  },
  {
   "cell_type": "code",
   "execution_count": 4,
   "metadata": {},
   "outputs": [
    {
     "data": {
      "text/plain": [
       "<sqlite3.Cursor at 0x27116c77490>"
      ]
     },
     "execution_count": 4,
     "metadata": {},
     "output_type": "execute_result"
    }
   ],
   "source": [
    "# Execute the query\n",
    "cur.execute(\"\"\"SELECT name FROM sqlite_master WHERE type = 'table';\"\"\")\n"
   ]
  },
  {
   "cell_type": "code",
   "execution_count": 5,
   "metadata": {},
   "outputs": [
    {
     "data": {
      "text/html": [
       "<div>\n",
       "<style scoped>\n",
       "    .dataframe tbody tr th:only-of-type {\n",
       "        vertical-align: middle;\n",
       "    }\n",
       "\n",
       "    .dataframe tbody tr th {\n",
       "        vertical-align: top;\n",
       "    }\n",
       "\n",
       "    .dataframe thead th {\n",
       "        text-align: right;\n",
       "    }\n",
       "</style>\n",
       "<table border=\"1\" class=\"dataframe\">\n",
       "  <thead>\n",
       "    <tr style=\"text-align: right;\">\n",
       "      <th></th>\n",
       "      <th>name</th>\n",
       "    </tr>\n",
       "  </thead>\n",
       "  <tbody>\n",
       "    <tr>\n",
       "      <th>0</th>\n",
       "      <td>movie_basics</td>\n",
       "    </tr>\n",
       "    <tr>\n",
       "      <th>1</th>\n",
       "      <td>directors</td>\n",
       "    </tr>\n",
       "    <tr>\n",
       "      <th>2</th>\n",
       "      <td>known_for</td>\n",
       "    </tr>\n",
       "    <tr>\n",
       "      <th>3</th>\n",
       "      <td>movie_akas</td>\n",
       "    </tr>\n",
       "    <tr>\n",
       "      <th>4</th>\n",
       "      <td>movie_ratings</td>\n",
       "    </tr>\n",
       "    <tr>\n",
       "      <th>5</th>\n",
       "      <td>persons</td>\n",
       "    </tr>\n",
       "    <tr>\n",
       "      <th>6</th>\n",
       "      <td>principals</td>\n",
       "    </tr>\n",
       "    <tr>\n",
       "      <th>7</th>\n",
       "      <td>writers</td>\n",
       "    </tr>\n",
       "  </tbody>\n",
       "</table>\n",
       "</div>"
      ],
      "text/plain": [
       "            name\n",
       "0   movie_basics\n",
       "1      directors\n",
       "2      known_for\n",
       "3     movie_akas\n",
       "4  movie_ratings\n",
       "5        persons\n",
       "6     principals\n",
       "7        writers"
      ]
     },
     "execution_count": 5,
     "metadata": {},
     "output_type": "execute_result"
    }
   ],
   "source": [
    "# Query data from the database using Pandas\n",
    "df = pd.read_sql(\"\"\"SELECT name FROM sqlite_master WHERE type = 'table';\"\"\", conn)\n",
    "df"
   ]
  },
  {
   "cell_type": "markdown",
   "metadata": {},
   "source": [
    "To address the business problem tables movie_basic and movie_ratings will be used "
   ]
  },
  {
   "cell_type": "code",
   "execution_count": 6,
   "metadata": {},
   "outputs": [
    {
     "data": {
      "text/html": [
       "<div>\n",
       "<style scoped>\n",
       "    .dataframe tbody tr th:only-of-type {\n",
       "        vertical-align: middle;\n",
       "    }\n",
       "\n",
       "    .dataframe tbody tr th {\n",
       "        vertical-align: top;\n",
       "    }\n",
       "\n",
       "    .dataframe thead th {\n",
       "        text-align: right;\n",
       "    }\n",
       "</style>\n",
       "<table border=\"1\" class=\"dataframe\">\n",
       "  <thead>\n",
       "    <tr style=\"text-align: right;\">\n",
       "      <th></th>\n",
       "      <th>movie_id</th>\n",
       "      <th>averagerating</th>\n",
       "      <th>numvotes</th>\n",
       "    </tr>\n",
       "  </thead>\n",
       "  <tbody>\n",
       "    <tr>\n",
       "      <th>0</th>\n",
       "      <td>tt10356526</td>\n",
       "      <td>8.3</td>\n",
       "      <td>31</td>\n",
       "    </tr>\n",
       "    <tr>\n",
       "      <th>1</th>\n",
       "      <td>tt10384606</td>\n",
       "      <td>8.9</td>\n",
       "      <td>559</td>\n",
       "    </tr>\n",
       "    <tr>\n",
       "      <th>2</th>\n",
       "      <td>tt1042974</td>\n",
       "      <td>6.4</td>\n",
       "      <td>20</td>\n",
       "    </tr>\n",
       "    <tr>\n",
       "      <th>3</th>\n",
       "      <td>tt1043726</td>\n",
       "      <td>4.2</td>\n",
       "      <td>50352</td>\n",
       "    </tr>\n",
       "    <tr>\n",
       "      <th>4</th>\n",
       "      <td>tt1060240</td>\n",
       "      <td>6.5</td>\n",
       "      <td>21</td>\n",
       "    </tr>\n",
       "    <tr>\n",
       "      <th>...</th>\n",
       "      <td>...</td>\n",
       "      <td>...</td>\n",
       "      <td>...</td>\n",
       "    </tr>\n",
       "    <tr>\n",
       "      <th>73851</th>\n",
       "      <td>tt9805820</td>\n",
       "      <td>8.1</td>\n",
       "      <td>25</td>\n",
       "    </tr>\n",
       "    <tr>\n",
       "      <th>73852</th>\n",
       "      <td>tt9844256</td>\n",
       "      <td>7.5</td>\n",
       "      <td>24</td>\n",
       "    </tr>\n",
       "    <tr>\n",
       "      <th>73853</th>\n",
       "      <td>tt9851050</td>\n",
       "      <td>4.7</td>\n",
       "      <td>14</td>\n",
       "    </tr>\n",
       "    <tr>\n",
       "      <th>73854</th>\n",
       "      <td>tt9886934</td>\n",
       "      <td>7.0</td>\n",
       "      <td>5</td>\n",
       "    </tr>\n",
       "    <tr>\n",
       "      <th>73855</th>\n",
       "      <td>tt9894098</td>\n",
       "      <td>6.3</td>\n",
       "      <td>128</td>\n",
       "    </tr>\n",
       "  </tbody>\n",
       "</table>\n",
       "<p>73856 rows × 3 columns</p>\n",
       "</div>"
      ],
      "text/plain": [
       "         movie_id  averagerating  numvotes\n",
       "0      tt10356526            8.3        31\n",
       "1      tt10384606            8.9       559\n",
       "2       tt1042974            6.4        20\n",
       "3       tt1043726            4.2     50352\n",
       "4       tt1060240            6.5        21\n",
       "...           ...            ...       ...\n",
       "73851   tt9805820            8.1        25\n",
       "73852   tt9844256            7.5        24\n",
       "73853   tt9851050            4.7        14\n",
       "73854   tt9886934            7.0         5\n",
       "73855   tt9894098            6.3       128\n",
       "\n",
       "[73856 rows x 3 columns]"
      ]
     },
     "execution_count": 6,
     "metadata": {},
     "output_type": "execute_result"
    }
   ],
   "source": [
    "# movie_ratings\n",
    "df= pd.read_sql(\"\"\"SELECT* \n",
    "FROM movie_ratings\n",
    " ;\"\"\", conn)\n",
    "df"
   ]
  },
  {
   "cell_type": "code",
   "execution_count": 7,
   "metadata": {},
   "outputs": [
    {
     "data": {
      "text/html": [
       "<div>\n",
       "<style scoped>\n",
       "    .dataframe tbody tr th:only-of-type {\n",
       "        vertical-align: middle;\n",
       "    }\n",
       "\n",
       "    .dataframe tbody tr th {\n",
       "        vertical-align: top;\n",
       "    }\n",
       "\n",
       "    .dataframe thead th {\n",
       "        text-align: right;\n",
       "    }\n",
       "</style>\n",
       "<table border=\"1\" class=\"dataframe\">\n",
       "  <thead>\n",
       "    <tr style=\"text-align: right;\">\n",
       "      <th></th>\n",
       "      <th>movie_id</th>\n",
       "      <th>primary_title</th>\n",
       "      <th>original_title</th>\n",
       "      <th>start_year</th>\n",
       "      <th>runtime_minutes</th>\n",
       "      <th>genres</th>\n",
       "    </tr>\n",
       "  </thead>\n",
       "  <tbody>\n",
       "    <tr>\n",
       "      <th>0</th>\n",
       "      <td>tt0063540</td>\n",
       "      <td>Sunghursh</td>\n",
       "      <td>Sunghursh</td>\n",
       "      <td>2013</td>\n",
       "      <td>175.0</td>\n",
       "      <td>Action,Crime,Drama</td>\n",
       "    </tr>\n",
       "    <tr>\n",
       "      <th>1</th>\n",
       "      <td>tt0066787</td>\n",
       "      <td>One Day Before the Rainy Season</td>\n",
       "      <td>Ashad Ka Ek Din</td>\n",
       "      <td>2019</td>\n",
       "      <td>114.0</td>\n",
       "      <td>Biography,Drama</td>\n",
       "    </tr>\n",
       "    <tr>\n",
       "      <th>2</th>\n",
       "      <td>tt0069049</td>\n",
       "      <td>The Other Side of the Wind</td>\n",
       "      <td>The Other Side of the Wind</td>\n",
       "      <td>2018</td>\n",
       "      <td>122.0</td>\n",
       "      <td>Drama</td>\n",
       "    </tr>\n",
       "    <tr>\n",
       "      <th>3</th>\n",
       "      <td>tt0069204</td>\n",
       "      <td>Sabse Bada Sukh</td>\n",
       "      <td>Sabse Bada Sukh</td>\n",
       "      <td>2018</td>\n",
       "      <td>NaN</td>\n",
       "      <td>Comedy,Drama</td>\n",
       "    </tr>\n",
       "    <tr>\n",
       "      <th>4</th>\n",
       "      <td>tt0100275</td>\n",
       "      <td>The Wandering Soap Opera</td>\n",
       "      <td>La Telenovela Errante</td>\n",
       "      <td>2017</td>\n",
       "      <td>80.0</td>\n",
       "      <td>Comedy,Drama,Fantasy</td>\n",
       "    </tr>\n",
       "    <tr>\n",
       "      <th>...</th>\n",
       "      <td>...</td>\n",
       "      <td>...</td>\n",
       "      <td>...</td>\n",
       "      <td>...</td>\n",
       "      <td>...</td>\n",
       "      <td>...</td>\n",
       "    </tr>\n",
       "    <tr>\n",
       "      <th>146139</th>\n",
       "      <td>tt9916538</td>\n",
       "      <td>Kuambil Lagi Hatiku</td>\n",
       "      <td>Kuambil Lagi Hatiku</td>\n",
       "      <td>2019</td>\n",
       "      <td>123.0</td>\n",
       "      <td>Drama</td>\n",
       "    </tr>\n",
       "    <tr>\n",
       "      <th>146140</th>\n",
       "      <td>tt9916622</td>\n",
       "      <td>Rodolpho Teóphilo - O Legado de um Pioneiro</td>\n",
       "      <td>Rodolpho Teóphilo - O Legado de um Pioneiro</td>\n",
       "      <td>2015</td>\n",
       "      <td>NaN</td>\n",
       "      <td>Documentary</td>\n",
       "    </tr>\n",
       "    <tr>\n",
       "      <th>146141</th>\n",
       "      <td>tt9916706</td>\n",
       "      <td>Dankyavar Danka</td>\n",
       "      <td>Dankyavar Danka</td>\n",
       "      <td>2013</td>\n",
       "      <td>NaN</td>\n",
       "      <td>Comedy</td>\n",
       "    </tr>\n",
       "    <tr>\n",
       "      <th>146142</th>\n",
       "      <td>tt9916730</td>\n",
       "      <td>6 Gunn</td>\n",
       "      <td>6 Gunn</td>\n",
       "      <td>2017</td>\n",
       "      <td>116.0</td>\n",
       "      <td>None</td>\n",
       "    </tr>\n",
       "    <tr>\n",
       "      <th>146143</th>\n",
       "      <td>tt9916754</td>\n",
       "      <td>Chico Albuquerque - Revelações</td>\n",
       "      <td>Chico Albuquerque - Revelações</td>\n",
       "      <td>2013</td>\n",
       "      <td>NaN</td>\n",
       "      <td>Documentary</td>\n",
       "    </tr>\n",
       "  </tbody>\n",
       "</table>\n",
       "<p>146144 rows × 6 columns</p>\n",
       "</div>"
      ],
      "text/plain": [
       "         movie_id                                primary_title  \\\n",
       "0       tt0063540                                    Sunghursh   \n",
       "1       tt0066787              One Day Before the Rainy Season   \n",
       "2       tt0069049                   The Other Side of the Wind   \n",
       "3       tt0069204                              Sabse Bada Sukh   \n",
       "4       tt0100275                     The Wandering Soap Opera   \n",
       "...           ...                                          ...   \n",
       "146139  tt9916538                          Kuambil Lagi Hatiku   \n",
       "146140  tt9916622  Rodolpho Teóphilo - O Legado de um Pioneiro   \n",
       "146141  tt9916706                              Dankyavar Danka   \n",
       "146142  tt9916730                                       6 Gunn   \n",
       "146143  tt9916754               Chico Albuquerque - Revelações   \n",
       "\n",
       "                                     original_title  start_year  \\\n",
       "0                                         Sunghursh        2013   \n",
       "1                                   Ashad Ka Ek Din        2019   \n",
       "2                        The Other Side of the Wind        2018   \n",
       "3                                   Sabse Bada Sukh        2018   \n",
       "4                             La Telenovela Errante        2017   \n",
       "...                                             ...         ...   \n",
       "146139                          Kuambil Lagi Hatiku        2019   \n",
       "146140  Rodolpho Teóphilo - O Legado de um Pioneiro        2015   \n",
       "146141                              Dankyavar Danka        2013   \n",
       "146142                                       6 Gunn        2017   \n",
       "146143               Chico Albuquerque - Revelações        2013   \n",
       "\n",
       "        runtime_minutes                genres  \n",
       "0                 175.0    Action,Crime,Drama  \n",
       "1                 114.0       Biography,Drama  \n",
       "2                 122.0                 Drama  \n",
       "3                   NaN          Comedy,Drama  \n",
       "4                  80.0  Comedy,Drama,Fantasy  \n",
       "...                 ...                   ...  \n",
       "146139            123.0                 Drama  \n",
       "146140              NaN           Documentary  \n",
       "146141              NaN                Comedy  \n",
       "146142            116.0                  None  \n",
       "146143              NaN           Documentary  \n",
       "\n",
       "[146144 rows x 6 columns]"
      ]
     },
     "execution_count": 7,
     "metadata": {},
     "output_type": "execute_result"
    }
   ],
   "source": [
    "#movie basics \n",
    "df= pd.read_sql(\"\"\"SELECT* \n",
    "FROM movie_basics\n",
    " ;\"\"\", conn)\n",
    "df"
   ]
  },
  {
   "cell_type": "code",
   "execution_count": 8,
   "metadata": {
    "scrolled": true
   },
   "outputs": [
    {
     "data": {
      "text/html": [
       "<div>\n",
       "<style scoped>\n",
       "    .dataframe tbody tr th:only-of-type {\n",
       "        vertical-align: middle;\n",
       "    }\n",
       "\n",
       "    .dataframe tbody tr th {\n",
       "        vertical-align: top;\n",
       "    }\n",
       "\n",
       "    .dataframe thead th {\n",
       "        text-align: right;\n",
       "    }\n",
       "</style>\n",
       "<table border=\"1\" class=\"dataframe\">\n",
       "  <thead>\n",
       "    <tr style=\"text-align: right;\">\n",
       "      <th></th>\n",
       "      <th>primary_title</th>\n",
       "      <th>start_year</th>\n",
       "      <th>runtime_minutes</th>\n",
       "      <th>genres</th>\n",
       "      <th>movieID</th>\n",
       "      <th>averagerating</th>\n",
       "    </tr>\n",
       "  </thead>\n",
       "  <tbody>\n",
       "    <tr>\n",
       "      <th>0</th>\n",
       "      <td>Sunghursh</td>\n",
       "      <td>2013</td>\n",
       "      <td>175.0</td>\n",
       "      <td>Action,Crime,Drama</td>\n",
       "      <td>tt0063540</td>\n",
       "      <td>7.0</td>\n",
       "    </tr>\n",
       "    <tr>\n",
       "      <th>1</th>\n",
       "      <td>One Day Before the Rainy Season</td>\n",
       "      <td>2019</td>\n",
       "      <td>114.0</td>\n",
       "      <td>Biography,Drama</td>\n",
       "      <td>tt0066787</td>\n",
       "      <td>7.2</td>\n",
       "    </tr>\n",
       "    <tr>\n",
       "      <th>2</th>\n",
       "      <td>The Other Side of the Wind</td>\n",
       "      <td>2018</td>\n",
       "      <td>122.0</td>\n",
       "      <td>Drama</td>\n",
       "      <td>tt0069049</td>\n",
       "      <td>6.9</td>\n",
       "    </tr>\n",
       "    <tr>\n",
       "      <th>3</th>\n",
       "      <td>Sabse Bada Sukh</td>\n",
       "      <td>2018</td>\n",
       "      <td>NaN</td>\n",
       "      <td>Comedy,Drama</td>\n",
       "      <td>tt0069204</td>\n",
       "      <td>6.1</td>\n",
       "    </tr>\n",
       "    <tr>\n",
       "      <th>4</th>\n",
       "      <td>The Wandering Soap Opera</td>\n",
       "      <td>2017</td>\n",
       "      <td>80.0</td>\n",
       "      <td>Comedy,Drama,Fantasy</td>\n",
       "      <td>tt0100275</td>\n",
       "      <td>6.5</td>\n",
       "    </tr>\n",
       "    <tr>\n",
       "      <th>...</th>\n",
       "      <td>...</td>\n",
       "      <td>...</td>\n",
       "      <td>...</td>\n",
       "      <td>...</td>\n",
       "      <td>...</td>\n",
       "      <td>...</td>\n",
       "    </tr>\n",
       "    <tr>\n",
       "      <th>146139</th>\n",
       "      <td>Kuambil Lagi Hatiku</td>\n",
       "      <td>2019</td>\n",
       "      <td>123.0</td>\n",
       "      <td>Drama</td>\n",
       "      <td>tt9916538</td>\n",
       "      <td>NaN</td>\n",
       "    </tr>\n",
       "    <tr>\n",
       "      <th>146140</th>\n",
       "      <td>Rodolpho Teóphilo - O Legado de um Pioneiro</td>\n",
       "      <td>2015</td>\n",
       "      <td>NaN</td>\n",
       "      <td>Documentary</td>\n",
       "      <td>tt9916622</td>\n",
       "      <td>NaN</td>\n",
       "    </tr>\n",
       "    <tr>\n",
       "      <th>146141</th>\n",
       "      <td>Dankyavar Danka</td>\n",
       "      <td>2013</td>\n",
       "      <td>NaN</td>\n",
       "      <td>Comedy</td>\n",
       "      <td>tt9916706</td>\n",
       "      <td>NaN</td>\n",
       "    </tr>\n",
       "    <tr>\n",
       "      <th>146142</th>\n",
       "      <td>6 Gunn</td>\n",
       "      <td>2017</td>\n",
       "      <td>116.0</td>\n",
       "      <td>None</td>\n",
       "      <td>tt9916730</td>\n",
       "      <td>NaN</td>\n",
       "    </tr>\n",
       "    <tr>\n",
       "      <th>146143</th>\n",
       "      <td>Chico Albuquerque - Revelações</td>\n",
       "      <td>2013</td>\n",
       "      <td>NaN</td>\n",
       "      <td>Documentary</td>\n",
       "      <td>tt9916754</td>\n",
       "      <td>NaN</td>\n",
       "    </tr>\n",
       "  </tbody>\n",
       "</table>\n",
       "<p>146144 rows × 6 columns</p>\n",
       "</div>"
      ],
      "text/plain": [
       "                                      primary_title  start_year  \\\n",
       "0                                         Sunghursh        2013   \n",
       "1                   One Day Before the Rainy Season        2019   \n",
       "2                        The Other Side of the Wind        2018   \n",
       "3                                   Sabse Bada Sukh        2018   \n",
       "4                          The Wandering Soap Opera        2017   \n",
       "...                                             ...         ...   \n",
       "146139                          Kuambil Lagi Hatiku        2019   \n",
       "146140  Rodolpho Teóphilo - O Legado de um Pioneiro        2015   \n",
       "146141                              Dankyavar Danka        2013   \n",
       "146142                                       6 Gunn        2017   \n",
       "146143               Chico Albuquerque - Revelações        2013   \n",
       "\n",
       "        runtime_minutes                genres    movieID  averagerating  \n",
       "0                 175.0    Action,Crime,Drama  tt0063540            7.0  \n",
       "1                 114.0       Biography,Drama  tt0066787            7.2  \n",
       "2                 122.0                 Drama  tt0069049            6.9  \n",
       "3                   NaN          Comedy,Drama  tt0069204            6.1  \n",
       "4                  80.0  Comedy,Drama,Fantasy  tt0100275            6.5  \n",
       "...                 ...                   ...        ...            ...  \n",
       "146139            123.0                 Drama  tt9916538            NaN  \n",
       "146140              NaN           Documentary  tt9916622            NaN  \n",
       "146141              NaN                Comedy  tt9916706            NaN  \n",
       "146142            116.0                  None  tt9916730            NaN  \n",
       "146143              NaN           Documentary  tt9916754            NaN  \n",
       "\n",
       "[146144 rows x 6 columns]"
      ]
     },
     "execution_count": 8,
     "metadata": {},
     "output_type": "execute_result"
    }
   ],
   "source": [
    "# Create dataframe for analysis by joining movie basics and moving ratings tables \n",
    "IMDB= pd.read_sql(\"\"\" SELECT primary_title, start_year, runtime_minutes, genres, movie_basics.movie_id AS movieID, averagerating\n",
    "FROM movie_basics\n",
    "LEFT JOIN movie_ratings ON movie_basics.movie_id = movie_ratings.movie_id\n",
    "GROUP BY movie_basics.movie_id;\n",
    "\"\"\", conn)\n",
    "IMDB"
   ]
  },
  {
   "cell_type": "code",
   "execution_count": 9,
   "metadata": {},
   "outputs": [],
   "source": [
    "# Close the database connection\n",
    "conn.close()\n"
   ]
  },
  {
   "cell_type": "markdown",
   "metadata": {},
   "source": [
    "# Explore and Examine IMDB data"
   ]
  },
  {
   "cell_type": "code",
   "execution_count": 10,
   "metadata": {},
   "outputs": [
    {
     "name": "stdout",
     "output_type": "stream",
     "text": [
      "<class 'pandas.core.frame.DataFrame'>\n",
      "RangeIndex: 146144 entries, 0 to 146143\n",
      "Data columns (total 6 columns):\n",
      " #   Column           Non-Null Count   Dtype  \n",
      "---  ------           --------------   -----  \n",
      " 0   primary_title    146144 non-null  object \n",
      " 1   start_year       146144 non-null  int64  \n",
      " 2   runtime_minutes  114405 non-null  float64\n",
      " 3   genres           140736 non-null  object \n",
      " 4   movieID          146144 non-null  object \n",
      " 5   averagerating    73856 non-null   float64\n",
      "dtypes: float64(2), int64(1), object(3)\n",
      "memory usage: 6.7+ MB\n"
     ]
    }
   ],
   "source": [
    "# Obtain a concise summary of the overall structure of dataframe\n",
    "IMDB.info()"
   ]
  },
  {
   "cell_type": "code",
   "execution_count": 11,
   "metadata": {},
   "outputs": [
    {
     "data": {
      "text/plain": [
       "primary_title          0\n",
       "start_year             0\n",
       "runtime_minutes    31739\n",
       "genres              5408\n",
       "movieID                0\n",
       "averagerating      72288\n",
       "dtype: int64"
      ]
     },
     "execution_count": 11,
     "metadata": {},
     "output_type": "execute_result"
    }
   ],
   "source": [
    "#Overview of the numerical features of the dataset\n",
    "IMDB.isna().sum()"
   ]
  },
  {
   "cell_type": "markdown",
   "metadata": {},
   "source": [
    "# Summary of the overall structure of  IMDB dataframe\n",
    "\n",
    "The data summary confirms this is a pandas dataframe. The dataframe has 146143 entries within 6 columns. Indication of missing data in 3 of the columns. Decisions regarding handling of such is taken during data cleaning.\n",
    "dtypes: float64(2), int64(1), object(3) memory usage: 6.7+ MB"
   ]
  },
  {
   "cell_type": "code",
   "execution_count": 12,
   "metadata": {},
   "outputs": [],
   "source": [
    "# Drop nan values\n",
    "IMDB=IMDB.dropna()\n",
    "# drop duplicate column\n",
    "IMDB=IMDB.drop_duplicates()\n"
   ]
  },
  {
   "cell_type": "code",
   "execution_count": 13,
   "metadata": {},
   "outputs": [
    {
     "data": {
      "text/html": [
       "<div>\n",
       "<style scoped>\n",
       "    .dataframe tbody tr th:only-of-type {\n",
       "        vertical-align: middle;\n",
       "    }\n",
       "\n",
       "    .dataframe tbody tr th {\n",
       "        vertical-align: top;\n",
       "    }\n",
       "\n",
       "    .dataframe thead th {\n",
       "        text-align: right;\n",
       "    }\n",
       "</style>\n",
       "<table border=\"1\" class=\"dataframe\">\n",
       "  <thead>\n",
       "    <tr style=\"text-align: right;\">\n",
       "      <th></th>\n",
       "      <th>title</th>\n",
       "      <th>start_year</th>\n",
       "      <th>runtime_minutes</th>\n",
       "      <th>genres</th>\n",
       "      <th>movieID</th>\n",
       "      <th>averagerating</th>\n",
       "    </tr>\n",
       "  </thead>\n",
       "  <tbody>\n",
       "    <tr>\n",
       "      <th>0</th>\n",
       "      <td>Sunghursh</td>\n",
       "      <td>2013</td>\n",
       "      <td>175.0</td>\n",
       "      <td>Action,Crime,Drama</td>\n",
       "      <td>tt0063540</td>\n",
       "      <td>7.0</td>\n",
       "    </tr>\n",
       "    <tr>\n",
       "      <th>1</th>\n",
       "      <td>One Day Before the Rainy Season</td>\n",
       "      <td>2019</td>\n",
       "      <td>114.0</td>\n",
       "      <td>Biography,Drama</td>\n",
       "      <td>tt0066787</td>\n",
       "      <td>7.2</td>\n",
       "    </tr>\n",
       "    <tr>\n",
       "      <th>2</th>\n",
       "      <td>The Other Side of the Wind</td>\n",
       "      <td>2018</td>\n",
       "      <td>122.0</td>\n",
       "      <td>Drama</td>\n",
       "      <td>tt0069049</td>\n",
       "      <td>6.9</td>\n",
       "    </tr>\n",
       "    <tr>\n",
       "      <th>4</th>\n",
       "      <td>The Wandering Soap Opera</td>\n",
       "      <td>2017</td>\n",
       "      <td>80.0</td>\n",
       "      <td>Comedy,Drama,Fantasy</td>\n",
       "      <td>tt0100275</td>\n",
       "      <td>6.5</td>\n",
       "    </tr>\n",
       "    <tr>\n",
       "      <th>7</th>\n",
       "      <td>Joe Finds Grace</td>\n",
       "      <td>2017</td>\n",
       "      <td>83.0</td>\n",
       "      <td>Adventure,Animation,Comedy</td>\n",
       "      <td>tt0137204</td>\n",
       "      <td>8.1</td>\n",
       "    </tr>\n",
       "    <tr>\n",
       "      <th>...</th>\n",
       "      <td>...</td>\n",
       "      <td>...</td>\n",
       "      <td>...</td>\n",
       "      <td>...</td>\n",
       "      <td>...</td>\n",
       "      <td>...</td>\n",
       "    </tr>\n",
       "    <tr>\n",
       "      <th>146113</th>\n",
       "      <td>Padmavyuhathile Abhimanyu</td>\n",
       "      <td>2019</td>\n",
       "      <td>130.0</td>\n",
       "      <td>Drama</td>\n",
       "      <td>tt9911774</td>\n",
       "      <td>8.4</td>\n",
       "    </tr>\n",
       "    <tr>\n",
       "      <th>146114</th>\n",
       "      <td>Swarm Season</td>\n",
       "      <td>2019</td>\n",
       "      <td>86.0</td>\n",
       "      <td>Documentary</td>\n",
       "      <td>tt9913056</td>\n",
       "      <td>6.2</td>\n",
       "    </tr>\n",
       "    <tr>\n",
       "      <th>146115</th>\n",
       "      <td>Diabolik sono io</td>\n",
       "      <td>2019</td>\n",
       "      <td>75.0</td>\n",
       "      <td>Documentary</td>\n",
       "      <td>tt9913084</td>\n",
       "      <td>6.2</td>\n",
       "    </tr>\n",
       "    <tr>\n",
       "      <th>146122</th>\n",
       "      <td>Sokagin Çocuklari</td>\n",
       "      <td>2019</td>\n",
       "      <td>98.0</td>\n",
       "      <td>Drama,Family</td>\n",
       "      <td>tt9914286</td>\n",
       "      <td>8.7</td>\n",
       "    </tr>\n",
       "    <tr>\n",
       "      <th>146134</th>\n",
       "      <td>Drømmeland</td>\n",
       "      <td>2019</td>\n",
       "      <td>72.0</td>\n",
       "      <td>Documentary</td>\n",
       "      <td>tt9916160</td>\n",
       "      <td>6.5</td>\n",
       "    </tr>\n",
       "  </tbody>\n",
       "</table>\n",
       "<p>65720 rows × 6 columns</p>\n",
       "</div>"
      ],
      "text/plain": [
       "                                  title  start_year  runtime_minutes  \\\n",
       "0                             Sunghursh        2013            175.0   \n",
       "1       One Day Before the Rainy Season        2019            114.0   \n",
       "2            The Other Side of the Wind        2018            122.0   \n",
       "4              The Wandering Soap Opera        2017             80.0   \n",
       "7                       Joe Finds Grace        2017             83.0   \n",
       "...                                 ...         ...              ...   \n",
       "146113        Padmavyuhathile Abhimanyu        2019            130.0   \n",
       "146114                     Swarm Season        2019             86.0   \n",
       "146115                 Diabolik sono io        2019             75.0   \n",
       "146122                Sokagin Çocuklari        2019             98.0   \n",
       "146134                       Drømmeland        2019             72.0   \n",
       "\n",
       "                            genres    movieID  averagerating  \n",
       "0               Action,Crime,Drama  tt0063540            7.0  \n",
       "1                  Biography,Drama  tt0066787            7.2  \n",
       "2                            Drama  tt0069049            6.9  \n",
       "4             Comedy,Drama,Fantasy  tt0100275            6.5  \n",
       "7       Adventure,Animation,Comedy  tt0137204            8.1  \n",
       "...                            ...        ...            ...  \n",
       "146113                       Drama  tt9911774            8.4  \n",
       "146114                 Documentary  tt9913056            6.2  \n",
       "146115                 Documentary  tt9913084            6.2  \n",
       "146122                Drama,Family  tt9914286            8.7  \n",
       "146134                 Documentary  tt9916160            6.5  \n",
       "\n",
       "[65720 rows x 6 columns]"
      ]
     },
     "execution_count": 13,
     "metadata": {},
     "output_type": "execute_result"
    }
   ],
   "source": [
    "# rename primary title as title\n",
    "IMDB.rename(columns={'primary_title': 'title'}, inplace=True)\n",
    "IMDB"
   ]
  },
  {
   "cell_type": "markdown",
   "metadata": {},
   "source": [
    "# Second database  BOM\n",
    "Import csv data file from box office mojo ( bom)"
   ]
  },
  {
   "cell_type": "code",
   "execution_count": 14,
   "metadata": {},
   "outputs": [
    {
     "data": {
      "text/html": [
       "<div>\n",
       "<style scoped>\n",
       "    .dataframe tbody tr th:only-of-type {\n",
       "        vertical-align: middle;\n",
       "    }\n",
       "\n",
       "    .dataframe tbody tr th {\n",
       "        vertical-align: top;\n",
       "    }\n",
       "\n",
       "    .dataframe thead th {\n",
       "        text-align: right;\n",
       "    }\n",
       "</style>\n",
       "<table border=\"1\" class=\"dataframe\">\n",
       "  <thead>\n",
       "    <tr style=\"text-align: right;\">\n",
       "      <th></th>\n",
       "      <th>title</th>\n",
       "      <th>studio</th>\n",
       "      <th>domestic_gross</th>\n",
       "      <th>foreign_gross</th>\n",
       "      <th>year</th>\n",
       "    </tr>\n",
       "  </thead>\n",
       "  <tbody>\n",
       "    <tr>\n",
       "      <th>0</th>\n",
       "      <td>Toy Story 3</td>\n",
       "      <td>BV</td>\n",
       "      <td>415000000.0</td>\n",
       "      <td>652000000</td>\n",
       "      <td>2010</td>\n",
       "    </tr>\n",
       "    <tr>\n",
       "      <th>1</th>\n",
       "      <td>Alice in Wonderland (2010)</td>\n",
       "      <td>BV</td>\n",
       "      <td>334200000.0</td>\n",
       "      <td>691300000</td>\n",
       "      <td>2010</td>\n",
       "    </tr>\n",
       "    <tr>\n",
       "      <th>2</th>\n",
       "      <td>Harry Potter and the Deathly Hallows Part 1</td>\n",
       "      <td>WB</td>\n",
       "      <td>296000000.0</td>\n",
       "      <td>664300000</td>\n",
       "      <td>2010</td>\n",
       "    </tr>\n",
       "    <tr>\n",
       "      <th>3</th>\n",
       "      <td>Inception</td>\n",
       "      <td>WB</td>\n",
       "      <td>292600000.0</td>\n",
       "      <td>535700000</td>\n",
       "      <td>2010</td>\n",
       "    </tr>\n",
       "    <tr>\n",
       "      <th>4</th>\n",
       "      <td>Shrek Forever After</td>\n",
       "      <td>P/DW</td>\n",
       "      <td>238700000.0</td>\n",
       "      <td>513900000</td>\n",
       "      <td>2010</td>\n",
       "    </tr>\n",
       "    <tr>\n",
       "      <th>...</th>\n",
       "      <td>...</td>\n",
       "      <td>...</td>\n",
       "      <td>...</td>\n",
       "      <td>...</td>\n",
       "      <td>...</td>\n",
       "    </tr>\n",
       "    <tr>\n",
       "      <th>3382</th>\n",
       "      <td>The Quake</td>\n",
       "      <td>Magn.</td>\n",
       "      <td>6200.0</td>\n",
       "      <td>NaN</td>\n",
       "      <td>2018</td>\n",
       "    </tr>\n",
       "    <tr>\n",
       "      <th>3383</th>\n",
       "      <td>Edward II (2018 re-release)</td>\n",
       "      <td>FM</td>\n",
       "      <td>4800.0</td>\n",
       "      <td>NaN</td>\n",
       "      <td>2018</td>\n",
       "    </tr>\n",
       "    <tr>\n",
       "      <th>3384</th>\n",
       "      <td>El Pacto</td>\n",
       "      <td>Sony</td>\n",
       "      <td>2500.0</td>\n",
       "      <td>NaN</td>\n",
       "      <td>2018</td>\n",
       "    </tr>\n",
       "    <tr>\n",
       "      <th>3385</th>\n",
       "      <td>The Swan</td>\n",
       "      <td>Synergetic</td>\n",
       "      <td>2400.0</td>\n",
       "      <td>NaN</td>\n",
       "      <td>2018</td>\n",
       "    </tr>\n",
       "    <tr>\n",
       "      <th>3386</th>\n",
       "      <td>An Actor Prepares</td>\n",
       "      <td>Grav.</td>\n",
       "      <td>1700.0</td>\n",
       "      <td>NaN</td>\n",
       "      <td>2018</td>\n",
       "    </tr>\n",
       "  </tbody>\n",
       "</table>\n",
       "<p>3387 rows × 5 columns</p>\n",
       "</div>"
      ],
      "text/plain": [
       "                                            title      studio  domestic_gross  \\\n",
       "0                                     Toy Story 3          BV     415000000.0   \n",
       "1                      Alice in Wonderland (2010)          BV     334200000.0   \n",
       "2     Harry Potter and the Deathly Hallows Part 1          WB     296000000.0   \n",
       "3                                       Inception          WB     292600000.0   \n",
       "4                             Shrek Forever After        P/DW     238700000.0   \n",
       "...                                           ...         ...             ...   \n",
       "3382                                    The Quake       Magn.          6200.0   \n",
       "3383                  Edward II (2018 re-release)          FM          4800.0   \n",
       "3384                                     El Pacto        Sony          2500.0   \n",
       "3385                                     The Swan  Synergetic          2400.0   \n",
       "3386                            An Actor Prepares       Grav.          1700.0   \n",
       "\n",
       "     foreign_gross  year  \n",
       "0        652000000  2010  \n",
       "1        691300000  2010  \n",
       "2        664300000  2010  \n",
       "3        535700000  2010  \n",
       "4        513900000  2010  \n",
       "...            ...   ...  \n",
       "3382           NaN  2018  \n",
       "3383           NaN  2018  \n",
       "3384           NaN  2018  \n",
       "3385           NaN  2018  \n",
       "3386           NaN  2018  \n",
       "\n",
       "[3387 rows x 5 columns]"
      ]
     },
     "execution_count": 14,
     "metadata": {},
     "output_type": "execute_result"
    }
   ],
   "source": [
    "# Import csv data\n",
    "bom_movie= pd.read_csv('bom.movie_gross.csv')\n",
    "bom_movie"
   ]
  },
  {
   "cell_type": "code",
   "execution_count": 15,
   "metadata": {},
   "outputs": [
    {
     "name": "stdout",
     "output_type": "stream",
     "text": [
      "<class 'pandas.core.frame.DataFrame'>\n",
      "RangeIndex: 3387 entries, 0 to 3386\n",
      "Data columns (total 5 columns):\n",
      " #   Column          Non-Null Count  Dtype  \n",
      "---  ------          --------------  -----  \n",
      " 0   title           3387 non-null   object \n",
      " 1   studio          3382 non-null   object \n",
      " 2   domestic_gross  3359 non-null   float64\n",
      " 3   foreign_gross   2037 non-null   object \n",
      " 4   year            3387 non-null   int64  \n",
      "dtypes: float64(1), int64(1), object(3)\n",
      "memory usage: 132.4+ KB\n"
     ]
    }
   ],
   "source": [
    "# Explore and examine  data\n",
    "bom_movie.info()\n"
   ]
  },
  {
   "cell_type": "code",
   "execution_count": 16,
   "metadata": {},
   "outputs": [
    {
     "data": {
      "text/plain": [
       "title                0\n",
       "studio               5\n",
       "domestic_gross      28\n",
       "foreign_gross     1350\n",
       "year                 0\n",
       "dtype: int64"
      ]
     },
     "execution_count": 16,
     "metadata": {},
     "output_type": "execute_result"
    }
   ],
   "source": [
    "# Numerical feature\n",
    "bom_movie.isna().sum()"
   ]
  },
  {
   "cell_type": "markdown",
   "metadata": {},
   "source": [
    "# Summary of the overall structure of  bom_movie dataframe\n",
    "The data summary confirms this is a pandas dataframe. The dataframe has 3387 entries within 5 columns Indication of missing data in 3 of the columns. Decisions regarding handling of such is taken during data cleaning. dtypes: float64(1), int64(1), object(3). \n",
    "foreign_gross is an object data type and requres a change to float."
   ]
  },
  {
   "cell_type": "markdown",
   "metadata": {},
   "source": [
    "# Data cleaning "
   ]
  },
  {
   "cell_type": "code",
   "execution_count": 17,
   "metadata": {},
   "outputs": [
    {
     "data": {
      "text/html": [
       "<div>\n",
       "<style scoped>\n",
       "    .dataframe tbody tr th:only-of-type {\n",
       "        vertical-align: middle;\n",
       "    }\n",
       "\n",
       "    .dataframe tbody tr th {\n",
       "        vertical-align: top;\n",
       "    }\n",
       "\n",
       "    .dataframe thead th {\n",
       "        text-align: right;\n",
       "    }\n",
       "</style>\n",
       "<table border=\"1\" class=\"dataframe\">\n",
       "  <thead>\n",
       "    <tr style=\"text-align: right;\">\n",
       "      <th></th>\n",
       "      <th>title</th>\n",
       "      <th>studio</th>\n",
       "      <th>domestic_gross</th>\n",
       "      <th>foreign_gross</th>\n",
       "      <th>year</th>\n",
       "    </tr>\n",
       "  </thead>\n",
       "  <tbody>\n",
       "    <tr>\n",
       "      <th>0</th>\n",
       "      <td>Toy Story 3</td>\n",
       "      <td>BV</td>\n",
       "      <td>415000000.0</td>\n",
       "      <td>652000000</td>\n",
       "      <td>2010</td>\n",
       "    </tr>\n",
       "    <tr>\n",
       "      <th>1</th>\n",
       "      <td>Alice in Wonderland (2010)</td>\n",
       "      <td>BV</td>\n",
       "      <td>334200000.0</td>\n",
       "      <td>691300000</td>\n",
       "      <td>2010</td>\n",
       "    </tr>\n",
       "    <tr>\n",
       "      <th>2</th>\n",
       "      <td>Harry Potter and the Deathly Hallows Part 1</td>\n",
       "      <td>WB</td>\n",
       "      <td>296000000.0</td>\n",
       "      <td>664300000</td>\n",
       "      <td>2010</td>\n",
       "    </tr>\n",
       "    <tr>\n",
       "      <th>3</th>\n",
       "      <td>Inception</td>\n",
       "      <td>WB</td>\n",
       "      <td>292600000.0</td>\n",
       "      <td>535700000</td>\n",
       "      <td>2010</td>\n",
       "    </tr>\n",
       "    <tr>\n",
       "      <th>4</th>\n",
       "      <td>Shrek Forever After</td>\n",
       "      <td>P/DW</td>\n",
       "      <td>238700000.0</td>\n",
       "      <td>513900000</td>\n",
       "      <td>2010</td>\n",
       "    </tr>\n",
       "    <tr>\n",
       "      <th>...</th>\n",
       "      <td>...</td>\n",
       "      <td>...</td>\n",
       "      <td>...</td>\n",
       "      <td>...</td>\n",
       "      <td>...</td>\n",
       "    </tr>\n",
       "    <tr>\n",
       "      <th>3275</th>\n",
       "      <td>I Still See You</td>\n",
       "      <td>LGF</td>\n",
       "      <td>1400.0</td>\n",
       "      <td>1500000</td>\n",
       "      <td>2018</td>\n",
       "    </tr>\n",
       "    <tr>\n",
       "      <th>3286</th>\n",
       "      <td>The Catcher Was a Spy</td>\n",
       "      <td>IFC</td>\n",
       "      <td>725000.0</td>\n",
       "      <td>229000</td>\n",
       "      <td>2018</td>\n",
       "    </tr>\n",
       "    <tr>\n",
       "      <th>3309</th>\n",
       "      <td>Time Freak</td>\n",
       "      <td>Grindstone</td>\n",
       "      <td>10000.0</td>\n",
       "      <td>256000</td>\n",
       "      <td>2018</td>\n",
       "    </tr>\n",
       "    <tr>\n",
       "      <th>3342</th>\n",
       "      <td>Reign of Judges: Title of Liberty - Concept Short</td>\n",
       "      <td>Darin Southa</td>\n",
       "      <td>93200.0</td>\n",
       "      <td>5200</td>\n",
       "      <td>2018</td>\n",
       "    </tr>\n",
       "    <tr>\n",
       "      <th>3353</th>\n",
       "      <td>Antonio Lopez 1970: Sex Fashion &amp; Disco</td>\n",
       "      <td>FM</td>\n",
       "      <td>43200.0</td>\n",
       "      <td>30000</td>\n",
       "      <td>2018</td>\n",
       "    </tr>\n",
       "  </tbody>\n",
       "</table>\n",
       "<p>2007 rows × 5 columns</p>\n",
       "</div>"
      ],
      "text/plain": [
       "                                                  title        studio  \\\n",
       "0                                           Toy Story 3            BV   \n",
       "1                            Alice in Wonderland (2010)            BV   \n",
       "2           Harry Potter and the Deathly Hallows Part 1            WB   \n",
       "3                                             Inception            WB   \n",
       "4                                   Shrek Forever After          P/DW   \n",
       "...                                                 ...           ...   \n",
       "3275                                    I Still See You           LGF   \n",
       "3286                              The Catcher Was a Spy           IFC   \n",
       "3309                                         Time Freak    Grindstone   \n",
       "3342  Reign of Judges: Title of Liberty - Concept Short  Darin Southa   \n",
       "3353            Antonio Lopez 1970: Sex Fashion & Disco            FM   \n",
       "\n",
       "      domestic_gross foreign_gross  year  \n",
       "0        415000000.0     652000000  2010  \n",
       "1        334200000.0     691300000  2010  \n",
       "2        296000000.0     664300000  2010  \n",
       "3        292600000.0     535700000  2010  \n",
       "4        238700000.0     513900000  2010  \n",
       "...              ...           ...   ...  \n",
       "3275          1400.0       1500000  2018  \n",
       "3286        725000.0        229000  2018  \n",
       "3309         10000.0        256000  2018  \n",
       "3342         93200.0          5200  2018  \n",
       "3353         43200.0         30000  2018  \n",
       "\n",
       "[2007 rows x 5 columns]"
      ]
     },
     "execution_count": 17,
     "metadata": {},
     "output_type": "execute_result"
    }
   ],
   "source": [
    "#drop null values\n",
    "bom_movie.dropna(inplace=True)\n",
    "# Drop duplicate values \n",
    "bom_movie.drop_duplicates()"
   ]
  },
  {
   "cell_type": "markdown",
   "metadata": {},
   "source": [
    "# Handling Inconsistent Data:\n",
    "Address typos, variations in capitalization, and naming conventions\n",
    "## Data Type Conversion\n",
    "1.Change foreign_gross to float dtype"
   ]
  },
  {
   "cell_type": "code",
   "execution_count": 18,
   "metadata": {},
   "outputs": [],
   "source": [
    "# Remove comma and change data type from object to float \n",
    "bom_movie['foreign_gross']= bom_movie['foreign_gross'].str.replace(',', '')\n",
    "bom_movie['foreign_gross']= bom_movie['foreign_gross'].astype(float)"
   ]
  },
  {
   "cell_type": "markdown",
   "metadata": {},
   "source": [
    "# Merge Databases  for Analysis\n",
    "To conduct a thorough analysis, I will merge the IMDB and BOM databases. This integration will enable a comprehensive examination of the data."
   ]
  },
  {
   "cell_type": "code",
   "execution_count": 19,
   "metadata": {
    "scrolled": true
   },
   "outputs": [
    {
     "data": {
      "text/html": [
       "<div>\n",
       "<style scoped>\n",
       "    .dataframe tbody tr th:only-of-type {\n",
       "        vertical-align: middle;\n",
       "    }\n",
       "\n",
       "    .dataframe tbody tr th {\n",
       "        vertical-align: top;\n",
       "    }\n",
       "\n",
       "    .dataframe thead th {\n",
       "        text-align: right;\n",
       "    }\n",
       "</style>\n",
       "<table border=\"1\" class=\"dataframe\">\n",
       "  <thead>\n",
       "    <tr style=\"text-align: right;\">\n",
       "      <th></th>\n",
       "      <th>title</th>\n",
       "      <th>start_year</th>\n",
       "      <th>runtime_minutes</th>\n",
       "      <th>genres</th>\n",
       "      <th>movieID</th>\n",
       "      <th>averagerating</th>\n",
       "      <th>studio</th>\n",
       "      <th>domestic_gross</th>\n",
       "      <th>foreign_gross</th>\n",
       "      <th>year</th>\n",
       "    </tr>\n",
       "  </thead>\n",
       "  <tbody>\n",
       "    <tr>\n",
       "      <th>0</th>\n",
       "      <td>On the Road</td>\n",
       "      <td>2012</td>\n",
       "      <td>124.0</td>\n",
       "      <td>Adventure,Drama,Romance</td>\n",
       "      <td>tt0337692</td>\n",
       "      <td>6.1</td>\n",
       "      <td>IFC</td>\n",
       "      <td>744000.0</td>\n",
       "      <td>8000000.0</td>\n",
       "      <td>2012</td>\n",
       "    </tr>\n",
       "    <tr>\n",
       "      <th>1</th>\n",
       "      <td>On the Road</td>\n",
       "      <td>2014</td>\n",
       "      <td>89.0</td>\n",
       "      <td>Drama</td>\n",
       "      <td>tt4339118</td>\n",
       "      <td>6.0</td>\n",
       "      <td>IFC</td>\n",
       "      <td>744000.0</td>\n",
       "      <td>8000000.0</td>\n",
       "      <td>2012</td>\n",
       "    </tr>\n",
       "    <tr>\n",
       "      <th>2</th>\n",
       "      <td>On the Road</td>\n",
       "      <td>2016</td>\n",
       "      <td>121.0</td>\n",
       "      <td>Drama</td>\n",
       "      <td>tt5647250</td>\n",
       "      <td>5.7</td>\n",
       "      <td>IFC</td>\n",
       "      <td>744000.0</td>\n",
       "      <td>8000000.0</td>\n",
       "      <td>2012</td>\n",
       "    </tr>\n",
       "    <tr>\n",
       "      <th>3</th>\n",
       "      <td>The Secret Life of Walter Mitty</td>\n",
       "      <td>2013</td>\n",
       "      <td>114.0</td>\n",
       "      <td>Adventure,Comedy,Drama</td>\n",
       "      <td>tt0359950</td>\n",
       "      <td>7.3</td>\n",
       "      <td>Fox</td>\n",
       "      <td>58200000.0</td>\n",
       "      <td>129900000.0</td>\n",
       "      <td>2013</td>\n",
       "    </tr>\n",
       "    <tr>\n",
       "      <th>4</th>\n",
       "      <td>A Walk Among the Tombstones</td>\n",
       "      <td>2014</td>\n",
       "      <td>114.0</td>\n",
       "      <td>Action,Crime,Drama</td>\n",
       "      <td>tt0365907</td>\n",
       "      <td>6.5</td>\n",
       "      <td>Uni.</td>\n",
       "      <td>26300000.0</td>\n",
       "      <td>26900000.0</td>\n",
       "      <td>2014</td>\n",
       "    </tr>\n",
       "  </tbody>\n",
       "</table>\n",
       "</div>"
      ],
      "text/plain": [
       "                             title  start_year  runtime_minutes  \\\n",
       "0                      On the Road        2012            124.0   \n",
       "1                      On the Road        2014             89.0   \n",
       "2                      On the Road        2016            121.0   \n",
       "3  The Secret Life of Walter Mitty        2013            114.0   \n",
       "4      A Walk Among the Tombstones        2014            114.0   \n",
       "\n",
       "                    genres    movieID  averagerating studio  domestic_gross  \\\n",
       "0  Adventure,Drama,Romance  tt0337692            6.1    IFC        744000.0   \n",
       "1                    Drama  tt4339118            6.0    IFC        744000.0   \n",
       "2                    Drama  tt5647250            5.7    IFC        744000.0   \n",
       "3   Adventure,Comedy,Drama  tt0359950            7.3    Fox      58200000.0   \n",
       "4       Action,Crime,Drama  tt0365907            6.5   Uni.      26300000.0   \n",
       "\n",
       "   foreign_gross  year  \n",
       "0      8000000.0  2012  \n",
       "1      8000000.0  2012  \n",
       "2      8000000.0  2012  \n",
       "3    129900000.0  2013  \n",
       "4     26900000.0  2014  "
      ]
     },
     "execution_count": 19,
     "metadata": {},
     "output_type": "execute_result"
    }
   ],
   "source": [
    "# Merge databases \n",
    "movie_db= pd.merge(IMDB, bom_movie, how='inner')\n",
    "movie_db.head()"
   ]
  },
  {
   "cell_type": "markdown",
   "metadata": {},
   "source": [
    "# Explore and examine the data\n",
    "\n",
    "Examine the data structure.\n"
   ]
  },
  {
   "cell_type": "code",
   "execution_count": 20,
   "metadata": {},
   "outputs": [
    {
     "name": "stdout",
     "output_type": "stream",
     "text": [
      "<class 'pandas.core.frame.DataFrame'>\n",
      "Int64Index: 1767 entries, 0 to 1766\n",
      "Data columns (total 10 columns):\n",
      " #   Column           Non-Null Count  Dtype  \n",
      "---  ------           --------------  -----  \n",
      " 0   title            1767 non-null   object \n",
      " 1   start_year       1767 non-null   int64  \n",
      " 2   runtime_minutes  1767 non-null   float64\n",
      " 3   genres           1767 non-null   object \n",
      " 4   movieID          1767 non-null   object \n",
      " 5   averagerating    1767 non-null   float64\n",
      " 6   studio           1767 non-null   object \n",
      " 7   domestic_gross   1767 non-null   float64\n",
      " 8   foreign_gross    1767 non-null   float64\n",
      " 9   year             1767 non-null   int64  \n",
      "dtypes: float64(4), int64(2), object(4)\n",
      "memory usage: 151.9+ KB\n"
     ]
    }
   ],
   "source": [
    "# Obtain a concise summary of the overall structure of dataframe\n",
    "movie_db.info()"
   ]
  },
  {
   "cell_type": "code",
   "execution_count": 21,
   "metadata": {},
   "outputs": [
    {
     "data": {
      "text/plain": [
       "title              0\n",
       "start_year         0\n",
       "runtime_minutes    0\n",
       "genres             0\n",
       "movieID            0\n",
       "averagerating      0\n",
       "studio             0\n",
       "domestic_gross     0\n",
       "foreign_gross      0\n",
       "year               0\n",
       "dtype: int64"
      ]
     },
     "execution_count": 21,
     "metadata": {},
     "output_type": "execute_result"
    }
   ],
   "source": [
    "#Overview of the numerical features of the dataset\n",
    "movie_db.isna().sum()"
   ]
  },
  {
   "cell_type": "markdown",
   "metadata": {},
   "source": [
    "# Summary of the overall structure of  movie_dataframe\n",
    "The data summary confirms this is a pandas dataframe. The combined dataframe has 1767 entries within 10 columns. There is no indication of missing data. dtypes: float64(4), int64(2), object(4)\n",
    "memory usage: 151.9+ KB"
   ]
  },
  {
   "cell_type": "markdown",
   "metadata": {},
   "source": [
    "# To address the business inquiry and provide actionable insights:\n",
    "\n",
    "1.  Analysis will entail movie genres as a predictor of  sales, average rating, and runtime.\n",
    "\n",
    "2. Investigate the relationship between movie length (runtime), average rating, and sales across different market segments\n",
    "\n",
    "3. Explore how movie length(runtime) correlates with  sales.\n",
    "\n",
    "4. Assess geographical market segmentation, aligning with the company's areas of interest.."
   ]
  },
  {
   "cell_type": "code",
   "execution_count": 22,
   "metadata": {},
   "outputs": [
    {
     "data": {
      "text/html": [
       "<div>\n",
       "<style scoped>\n",
       "    .dataframe tbody tr th:only-of-type {\n",
       "        vertical-align: middle;\n",
       "    }\n",
       "\n",
       "    .dataframe tbody tr th {\n",
       "        vertical-align: top;\n",
       "    }\n",
       "\n",
       "    .dataframe thead th {\n",
       "        text-align: right;\n",
       "    }\n",
       "</style>\n",
       "<table border=\"1\" class=\"dataframe\">\n",
       "  <thead>\n",
       "    <tr style=\"text-align: right;\">\n",
       "      <th></th>\n",
       "      <th>title</th>\n",
       "      <th>runtime_minutes</th>\n",
       "      <th>genres</th>\n",
       "      <th>averagerating</th>\n",
       "      <th>domestic_gross</th>\n",
       "      <th>foreign_gross</th>\n",
       "      <th>year</th>\n",
       "    </tr>\n",
       "  </thead>\n",
       "  <tbody>\n",
       "    <tr>\n",
       "      <th>0</th>\n",
       "      <td>On the Road</td>\n",
       "      <td>124.0</td>\n",
       "      <td>Adventure,Drama,Romance</td>\n",
       "      <td>6.1</td>\n",
       "      <td>744000.0</td>\n",
       "      <td>8000000.0</td>\n",
       "      <td>2012</td>\n",
       "    </tr>\n",
       "    <tr>\n",
       "      <th>1</th>\n",
       "      <td>On the Road</td>\n",
       "      <td>89.0</td>\n",
       "      <td>Drama</td>\n",
       "      <td>6.0</td>\n",
       "      <td>744000.0</td>\n",
       "      <td>8000000.0</td>\n",
       "      <td>2012</td>\n",
       "    </tr>\n",
       "    <tr>\n",
       "      <th>2</th>\n",
       "      <td>On the Road</td>\n",
       "      <td>121.0</td>\n",
       "      <td>Drama</td>\n",
       "      <td>5.7</td>\n",
       "      <td>744000.0</td>\n",
       "      <td>8000000.0</td>\n",
       "      <td>2012</td>\n",
       "    </tr>\n",
       "    <tr>\n",
       "      <th>3</th>\n",
       "      <td>The Secret Life of Walter Mitty</td>\n",
       "      <td>114.0</td>\n",
       "      <td>Adventure,Comedy,Drama</td>\n",
       "      <td>7.3</td>\n",
       "      <td>58200000.0</td>\n",
       "      <td>129900000.0</td>\n",
       "      <td>2013</td>\n",
       "    </tr>\n",
       "    <tr>\n",
       "      <th>4</th>\n",
       "      <td>A Walk Among the Tombstones</td>\n",
       "      <td>114.0</td>\n",
       "      <td>Action,Crime,Drama</td>\n",
       "      <td>6.5</td>\n",
       "      <td>26300000.0</td>\n",
       "      <td>26900000.0</td>\n",
       "      <td>2014</td>\n",
       "    </tr>\n",
       "    <tr>\n",
       "      <th>...</th>\n",
       "      <td>...</td>\n",
       "      <td>...</td>\n",
       "      <td>...</td>\n",
       "      <td>...</td>\n",
       "      <td>...</td>\n",
       "      <td>...</td>\n",
       "      <td>...</td>\n",
       "    </tr>\n",
       "    <tr>\n",
       "      <th>1762</th>\n",
       "      <td>Detective Chinatown 2</td>\n",
       "      <td>121.0</td>\n",
       "      <td>Action,Comedy,Mystery</td>\n",
       "      <td>6.1</td>\n",
       "      <td>2000000.0</td>\n",
       "      <td>542100000.0</td>\n",
       "      <td>2018</td>\n",
       "    </tr>\n",
       "    <tr>\n",
       "      <th>1763</th>\n",
       "      <td>Hereditary</td>\n",
       "      <td>127.0</td>\n",
       "      <td>Drama,Horror,Mystery</td>\n",
       "      <td>7.3</td>\n",
       "      <td>44100000.0</td>\n",
       "      <td>35300000.0</td>\n",
       "      <td>2018</td>\n",
       "    </tr>\n",
       "    <tr>\n",
       "      <th>1764</th>\n",
       "      <td>Nobody's Fool</td>\n",
       "      <td>110.0</td>\n",
       "      <td>Comedy,Drama,Romance</td>\n",
       "      <td>4.6</td>\n",
       "      <td>31700000.0</td>\n",
       "      <td>1800000.0</td>\n",
       "      <td>2018</td>\n",
       "    </tr>\n",
       "    <tr>\n",
       "      <th>1765</th>\n",
       "      <td>How Long Will I Love U</td>\n",
       "      <td>101.0</td>\n",
       "      <td>Romance</td>\n",
       "      <td>6.5</td>\n",
       "      <td>747000.0</td>\n",
       "      <td>82100000.0</td>\n",
       "      <td>2018</td>\n",
       "    </tr>\n",
       "    <tr>\n",
       "      <th>1766</th>\n",
       "      <td>Burn the Stage: The Movie</td>\n",
       "      <td>84.0</td>\n",
       "      <td>Documentary,Music</td>\n",
       "      <td>8.8</td>\n",
       "      <td>4200000.0</td>\n",
       "      <td>16100000.0</td>\n",
       "      <td>2018</td>\n",
       "    </tr>\n",
       "  </tbody>\n",
       "</table>\n",
       "<p>1767 rows × 7 columns</p>\n",
       "</div>"
      ],
      "text/plain": [
       "                                title  runtime_minutes  \\\n",
       "0                         On the Road            124.0   \n",
       "1                         On the Road             89.0   \n",
       "2                         On the Road            121.0   \n",
       "3     The Secret Life of Walter Mitty            114.0   \n",
       "4         A Walk Among the Tombstones            114.0   \n",
       "...                               ...              ...   \n",
       "1762            Detective Chinatown 2            121.0   \n",
       "1763                       Hereditary            127.0   \n",
       "1764                    Nobody's Fool            110.0   \n",
       "1765           How Long Will I Love U            101.0   \n",
       "1766        Burn the Stage: The Movie             84.0   \n",
       "\n",
       "                       genres  averagerating  domestic_gross  foreign_gross  \\\n",
       "0     Adventure,Drama,Romance            6.1        744000.0      8000000.0   \n",
       "1                       Drama            6.0        744000.0      8000000.0   \n",
       "2                       Drama            5.7        744000.0      8000000.0   \n",
       "3      Adventure,Comedy,Drama            7.3      58200000.0    129900000.0   \n",
       "4          Action,Crime,Drama            6.5      26300000.0     26900000.0   \n",
       "...                       ...            ...             ...            ...   \n",
       "1762    Action,Comedy,Mystery            6.1       2000000.0    542100000.0   \n",
       "1763     Drama,Horror,Mystery            7.3      44100000.0     35300000.0   \n",
       "1764     Comedy,Drama,Romance            4.6      31700000.0      1800000.0   \n",
       "1765                  Romance            6.5        747000.0     82100000.0   \n",
       "1766        Documentary,Music            8.8       4200000.0     16100000.0   \n",
       "\n",
       "      year  \n",
       "0     2012  \n",
       "1     2012  \n",
       "2     2012  \n",
       "3     2013  \n",
       "4     2014  \n",
       "...    ...  \n",
       "1762  2018  \n",
       "1763  2018  \n",
       "1764  2018  \n",
       "1765  2018  \n",
       "1766  2018  \n",
       "\n",
       "[1767 rows x 7 columns]"
      ]
     },
     "execution_count": 22,
     "metadata": {},
     "output_type": "execute_result"
    }
   ],
   "source": [
    "# Drop unnecessary columns\n",
    "movie_db.drop(['start_year' ,'movieID', 'studio'], axis=1, inplace=True)\n",
    "movie_db"
   ]
  },
  {
   "cell_type": "code",
   "execution_count": 23,
   "metadata": {},
   "outputs": [
    {
     "data": {
      "text/html": [
       "<div>\n",
       "<style scoped>\n",
       "    .dataframe tbody tr th:only-of-type {\n",
       "        vertical-align: middle;\n",
       "    }\n",
       "\n",
       "    .dataframe tbody tr th {\n",
       "        vertical-align: top;\n",
       "    }\n",
       "\n",
       "    .dataframe thead th {\n",
       "        text-align: right;\n",
       "    }\n",
       "</style>\n",
       "<table border=\"1\" class=\"dataframe\">\n",
       "  <thead>\n",
       "    <tr style=\"text-align: right;\">\n",
       "      <th></th>\n",
       "      <th>title</th>\n",
       "      <th>runtime_minutes</th>\n",
       "      <th>genres</th>\n",
       "      <th>averagerating</th>\n",
       "      <th>domestic_gross</th>\n",
       "      <th>foreign_gross</th>\n",
       "      <th>year</th>\n",
       "    </tr>\n",
       "  </thead>\n",
       "  <tbody>\n",
       "    <tr>\n",
       "      <th>0</th>\n",
       "      <td>On the Road</td>\n",
       "      <td>124.0</td>\n",
       "      <td>Adventure,Drama,Romance</td>\n",
       "      <td>6.1</td>\n",
       "      <td>744000.0</td>\n",
       "      <td>8000000.0</td>\n",
       "      <td>2012</td>\n",
       "    </tr>\n",
       "    <tr>\n",
       "      <th>1</th>\n",
       "      <td>On the Road</td>\n",
       "      <td>89.0</td>\n",
       "      <td>Drama</td>\n",
       "      <td>6.0</td>\n",
       "      <td>744000.0</td>\n",
       "      <td>8000000.0</td>\n",
       "      <td>2012</td>\n",
       "    </tr>\n",
       "    <tr>\n",
       "      <th>2</th>\n",
       "      <td>On the Road</td>\n",
       "      <td>121.0</td>\n",
       "      <td>Drama</td>\n",
       "      <td>5.7</td>\n",
       "      <td>744000.0</td>\n",
       "      <td>8000000.0</td>\n",
       "      <td>2012</td>\n",
       "    </tr>\n",
       "    <tr>\n",
       "      <th>3</th>\n",
       "      <td>The Secret Life of Walter Mitty</td>\n",
       "      <td>114.0</td>\n",
       "      <td>Adventure,Comedy,Drama</td>\n",
       "      <td>7.3</td>\n",
       "      <td>58200000.0</td>\n",
       "      <td>129900000.0</td>\n",
       "      <td>2013</td>\n",
       "    </tr>\n",
       "    <tr>\n",
       "      <th>4</th>\n",
       "      <td>A Walk Among the Tombstones</td>\n",
       "      <td>114.0</td>\n",
       "      <td>Action,Crime,Drama</td>\n",
       "      <td>6.5</td>\n",
       "      <td>26300000.0</td>\n",
       "      <td>26900000.0</td>\n",
       "      <td>2014</td>\n",
       "    </tr>\n",
       "    <tr>\n",
       "      <th>...</th>\n",
       "      <td>...</td>\n",
       "      <td>...</td>\n",
       "      <td>...</td>\n",
       "      <td>...</td>\n",
       "      <td>...</td>\n",
       "      <td>...</td>\n",
       "      <td>...</td>\n",
       "    </tr>\n",
       "    <tr>\n",
       "      <th>1762</th>\n",
       "      <td>Detective Chinatown 2</td>\n",
       "      <td>121.0</td>\n",
       "      <td>Action,Comedy,Mystery</td>\n",
       "      <td>6.1</td>\n",
       "      <td>2000000.0</td>\n",
       "      <td>542100000.0</td>\n",
       "      <td>2018</td>\n",
       "    </tr>\n",
       "    <tr>\n",
       "      <th>1763</th>\n",
       "      <td>Hereditary</td>\n",
       "      <td>127.0</td>\n",
       "      <td>Drama,Horror,Mystery</td>\n",
       "      <td>7.3</td>\n",
       "      <td>44100000.0</td>\n",
       "      <td>35300000.0</td>\n",
       "      <td>2018</td>\n",
       "    </tr>\n",
       "    <tr>\n",
       "      <th>1764</th>\n",
       "      <td>Nobody's Fool</td>\n",
       "      <td>110.0</td>\n",
       "      <td>Comedy,Drama,Romance</td>\n",
       "      <td>4.6</td>\n",
       "      <td>31700000.0</td>\n",
       "      <td>1800000.0</td>\n",
       "      <td>2018</td>\n",
       "    </tr>\n",
       "    <tr>\n",
       "      <th>1765</th>\n",
       "      <td>How Long Will I Love U</td>\n",
       "      <td>101.0</td>\n",
       "      <td>Romance</td>\n",
       "      <td>6.5</td>\n",
       "      <td>747000.0</td>\n",
       "      <td>82100000.0</td>\n",
       "      <td>2018</td>\n",
       "    </tr>\n",
       "    <tr>\n",
       "      <th>1766</th>\n",
       "      <td>Burn the Stage: The Movie</td>\n",
       "      <td>84.0</td>\n",
       "      <td>Documentary,Music</td>\n",
       "      <td>8.8</td>\n",
       "      <td>4200000.0</td>\n",
       "      <td>16100000.0</td>\n",
       "      <td>2018</td>\n",
       "    </tr>\n",
       "  </tbody>\n",
       "</table>\n",
       "<p>1767 rows × 7 columns</p>\n",
       "</div>"
      ],
      "text/plain": [
       "                                title  runtime_minutes  \\\n",
       "0                         On the Road            124.0   \n",
       "1                         On the Road             89.0   \n",
       "2                         On the Road            121.0   \n",
       "3     The Secret Life of Walter Mitty            114.0   \n",
       "4         A Walk Among the Tombstones            114.0   \n",
       "...                               ...              ...   \n",
       "1762            Detective Chinatown 2            121.0   \n",
       "1763                       Hereditary            127.0   \n",
       "1764                    Nobody's Fool            110.0   \n",
       "1765           How Long Will I Love U            101.0   \n",
       "1766        Burn the Stage: The Movie             84.0   \n",
       "\n",
       "                       genres  averagerating  domestic_gross  foreign_gross  \\\n",
       "0     Adventure,Drama,Romance            6.1        744000.0      8000000.0   \n",
       "1                       Drama            6.0        744000.0      8000000.0   \n",
       "2                       Drama            5.7        744000.0      8000000.0   \n",
       "3      Adventure,Comedy,Drama            7.3      58200000.0    129900000.0   \n",
       "4          Action,Crime,Drama            6.5      26300000.0     26900000.0   \n",
       "...                       ...            ...             ...            ...   \n",
       "1762    Action,Comedy,Mystery            6.1       2000000.0    542100000.0   \n",
       "1763     Drama,Horror,Mystery            7.3      44100000.0     35300000.0   \n",
       "1764     Comedy,Drama,Romance            4.6      31700000.0      1800000.0   \n",
       "1765                  Romance            6.5        747000.0     82100000.0   \n",
       "1766        Documentary,Music            8.8       4200000.0     16100000.0   \n",
       "\n",
       "      year  \n",
       "0     2012  \n",
       "1     2012  \n",
       "2     2012  \n",
       "3     2013  \n",
       "4     2014  \n",
       "...    ...  \n",
       "1762  2018  \n",
       "1763  2018  \n",
       "1764  2018  \n",
       "1765  2018  \n",
       "1766  2018  \n",
       "\n",
       "[1767 rows x 7 columns]"
      ]
     },
     "execution_count": 23,
     "metadata": {},
     "output_type": "execute_result"
    }
   ],
   "source": [
    "#Remove duplicate values \n",
    "movie_db.drop_duplicates()\n"
   ]
  },
  {
   "cell_type": "code",
   "execution_count": 24,
   "metadata": {},
   "outputs": [],
   "source": [
    "# Change year to a string \n",
    "movie_db['year']=movie_db['year'].astype(str)"
   ]
  },
  {
   "cell_type": "code",
   "execution_count": 25,
   "metadata": {},
   "outputs": [
    {
     "name": "stdout",
     "output_type": "stream",
     "text": [
      "<class 'pandas.core.frame.DataFrame'>\n",
      "Int64Index: 1767 entries, 0 to 1766\n",
      "Data columns (total 7 columns):\n",
      " #   Column           Non-Null Count  Dtype  \n",
      "---  ------           --------------  -----  \n",
      " 0   title            1767 non-null   object \n",
      " 1   runtime_minutes  1767 non-null   float64\n",
      " 2   genres           1767 non-null   object \n",
      " 3   averagerating    1767 non-null   float64\n",
      " 4   domestic_gross   1767 non-null   float64\n",
      " 5   foreign_gross    1767 non-null   float64\n",
      " 6   year             1767 non-null   object \n",
      "dtypes: float64(4), object(3)\n",
      "memory usage: 110.4+ KB\n"
     ]
    }
   ],
   "source": [
    "movie_db.info()"
   ]
  },
  {
   "cell_type": "markdown",
   "metadata": {},
   "source": [
    "# Feature Engineering   Global Sales\n",
    "To address business inquiries, particularly regarding market segmentation,  I established a global sales column by aggregating both foreign and domestic sales."
   ]
  },
  {
   "cell_type": "code",
   "execution_count": 26,
   "metadata": {},
   "outputs": [
    {
     "data": {
      "text/html": [
       "<div>\n",
       "<style scoped>\n",
       "    .dataframe tbody tr th:only-of-type {\n",
       "        vertical-align: middle;\n",
       "    }\n",
       "\n",
       "    .dataframe tbody tr th {\n",
       "        vertical-align: top;\n",
       "    }\n",
       "\n",
       "    .dataframe thead th {\n",
       "        text-align: right;\n",
       "    }\n",
       "</style>\n",
       "<table border=\"1\" class=\"dataframe\">\n",
       "  <thead>\n",
       "    <tr style=\"text-align: right;\">\n",
       "      <th></th>\n",
       "      <th>title</th>\n",
       "      <th>runtime_minutes</th>\n",
       "      <th>genres</th>\n",
       "      <th>averagerating</th>\n",
       "      <th>domestic_gross</th>\n",
       "      <th>foreign_gross</th>\n",
       "      <th>year</th>\n",
       "      <th>global_sales</th>\n",
       "    </tr>\n",
       "  </thead>\n",
       "  <tbody>\n",
       "    <tr>\n",
       "      <th>0</th>\n",
       "      <td>On the Road</td>\n",
       "      <td>124.0</td>\n",
       "      <td>Adventure,Drama,Romance</td>\n",
       "      <td>6.1</td>\n",
       "      <td>744000.0</td>\n",
       "      <td>8000000.0</td>\n",
       "      <td>2012</td>\n",
       "      <td>8744000.0</td>\n",
       "    </tr>\n",
       "    <tr>\n",
       "      <th>1</th>\n",
       "      <td>On the Road</td>\n",
       "      <td>89.0</td>\n",
       "      <td>Drama</td>\n",
       "      <td>6.0</td>\n",
       "      <td>744000.0</td>\n",
       "      <td>8000000.0</td>\n",
       "      <td>2012</td>\n",
       "      <td>8744000.0</td>\n",
       "    </tr>\n",
       "    <tr>\n",
       "      <th>2</th>\n",
       "      <td>On the Road</td>\n",
       "      <td>121.0</td>\n",
       "      <td>Drama</td>\n",
       "      <td>5.7</td>\n",
       "      <td>744000.0</td>\n",
       "      <td>8000000.0</td>\n",
       "      <td>2012</td>\n",
       "      <td>8744000.0</td>\n",
       "    </tr>\n",
       "    <tr>\n",
       "      <th>3</th>\n",
       "      <td>The Secret Life of Walter Mitty</td>\n",
       "      <td>114.0</td>\n",
       "      <td>Adventure,Comedy,Drama</td>\n",
       "      <td>7.3</td>\n",
       "      <td>58200000.0</td>\n",
       "      <td>129900000.0</td>\n",
       "      <td>2013</td>\n",
       "      <td>188100000.0</td>\n",
       "    </tr>\n",
       "    <tr>\n",
       "      <th>4</th>\n",
       "      <td>A Walk Among the Tombstones</td>\n",
       "      <td>114.0</td>\n",
       "      <td>Action,Crime,Drama</td>\n",
       "      <td>6.5</td>\n",
       "      <td>26300000.0</td>\n",
       "      <td>26900000.0</td>\n",
       "      <td>2014</td>\n",
       "      <td>53200000.0</td>\n",
       "    </tr>\n",
       "    <tr>\n",
       "      <th>...</th>\n",
       "      <td>...</td>\n",
       "      <td>...</td>\n",
       "      <td>...</td>\n",
       "      <td>...</td>\n",
       "      <td>...</td>\n",
       "      <td>...</td>\n",
       "      <td>...</td>\n",
       "      <td>...</td>\n",
       "    </tr>\n",
       "    <tr>\n",
       "      <th>1762</th>\n",
       "      <td>Detective Chinatown 2</td>\n",
       "      <td>121.0</td>\n",
       "      <td>Action,Comedy,Mystery</td>\n",
       "      <td>6.1</td>\n",
       "      <td>2000000.0</td>\n",
       "      <td>542100000.0</td>\n",
       "      <td>2018</td>\n",
       "      <td>544100000.0</td>\n",
       "    </tr>\n",
       "    <tr>\n",
       "      <th>1763</th>\n",
       "      <td>Hereditary</td>\n",
       "      <td>127.0</td>\n",
       "      <td>Drama,Horror,Mystery</td>\n",
       "      <td>7.3</td>\n",
       "      <td>44100000.0</td>\n",
       "      <td>35300000.0</td>\n",
       "      <td>2018</td>\n",
       "      <td>79400000.0</td>\n",
       "    </tr>\n",
       "    <tr>\n",
       "      <th>1764</th>\n",
       "      <td>Nobody's Fool</td>\n",
       "      <td>110.0</td>\n",
       "      <td>Comedy,Drama,Romance</td>\n",
       "      <td>4.6</td>\n",
       "      <td>31700000.0</td>\n",
       "      <td>1800000.0</td>\n",
       "      <td>2018</td>\n",
       "      <td>33500000.0</td>\n",
       "    </tr>\n",
       "    <tr>\n",
       "      <th>1765</th>\n",
       "      <td>How Long Will I Love U</td>\n",
       "      <td>101.0</td>\n",
       "      <td>Romance</td>\n",
       "      <td>6.5</td>\n",
       "      <td>747000.0</td>\n",
       "      <td>82100000.0</td>\n",
       "      <td>2018</td>\n",
       "      <td>82847000.0</td>\n",
       "    </tr>\n",
       "    <tr>\n",
       "      <th>1766</th>\n",
       "      <td>Burn the Stage: The Movie</td>\n",
       "      <td>84.0</td>\n",
       "      <td>Documentary,Music</td>\n",
       "      <td>8.8</td>\n",
       "      <td>4200000.0</td>\n",
       "      <td>16100000.0</td>\n",
       "      <td>2018</td>\n",
       "      <td>20300000.0</td>\n",
       "    </tr>\n",
       "  </tbody>\n",
       "</table>\n",
       "<p>1767 rows × 8 columns</p>\n",
       "</div>"
      ],
      "text/plain": [
       "                                title  runtime_minutes  \\\n",
       "0                         On the Road            124.0   \n",
       "1                         On the Road             89.0   \n",
       "2                         On the Road            121.0   \n",
       "3     The Secret Life of Walter Mitty            114.0   \n",
       "4         A Walk Among the Tombstones            114.0   \n",
       "...                               ...              ...   \n",
       "1762            Detective Chinatown 2            121.0   \n",
       "1763                       Hereditary            127.0   \n",
       "1764                    Nobody's Fool            110.0   \n",
       "1765           How Long Will I Love U            101.0   \n",
       "1766        Burn the Stage: The Movie             84.0   \n",
       "\n",
       "                       genres  averagerating  domestic_gross  foreign_gross  \\\n",
       "0     Adventure,Drama,Romance            6.1        744000.0      8000000.0   \n",
       "1                       Drama            6.0        744000.0      8000000.0   \n",
       "2                       Drama            5.7        744000.0      8000000.0   \n",
       "3      Adventure,Comedy,Drama            7.3      58200000.0    129900000.0   \n",
       "4          Action,Crime,Drama            6.5      26300000.0     26900000.0   \n",
       "...                       ...            ...             ...            ...   \n",
       "1762    Action,Comedy,Mystery            6.1       2000000.0    542100000.0   \n",
       "1763     Drama,Horror,Mystery            7.3      44100000.0     35300000.0   \n",
       "1764     Comedy,Drama,Romance            4.6      31700000.0      1800000.0   \n",
       "1765                  Romance            6.5        747000.0     82100000.0   \n",
       "1766        Documentary,Music            8.8       4200000.0     16100000.0   \n",
       "\n",
       "      year  global_sales  \n",
       "0     2012     8744000.0  \n",
       "1     2012     8744000.0  \n",
       "2     2012     8744000.0  \n",
       "3     2013   188100000.0  \n",
       "4     2014    53200000.0  \n",
       "...    ...           ...  \n",
       "1762  2018   544100000.0  \n",
       "1763  2018    79400000.0  \n",
       "1764  2018    33500000.0  \n",
       "1765  2018    82847000.0  \n",
       "1766  2018    20300000.0  \n",
       "\n",
       "[1767 rows x 8 columns]"
      ]
     },
     "execution_count": 26,
     "metadata": {},
     "output_type": "execute_result"
    }
   ],
   "source": [
    "#Create gross sales column for analysis of global sale \n",
    "movie_db['global_sales'] = movie_db['domestic_gross']+movie_db['foreign_gross']\n",
    "\n",
    "movie_db\n",
    "\n"
   ]
  },
  {
   "cell_type": "markdown",
   "metadata": {},
   "source": [
    "# Descriptive statistics\n",
    "I will generate statistics that summarize the data concisely, and evaluate different ways to visualize data.\n"
   ]
  },
  {
   "cell_type": "code",
   "execution_count": 27,
   "metadata": {},
   "outputs": [
    {
     "data": {
      "text/html": [
       "<div>\n",
       "<style scoped>\n",
       "    .dataframe tbody tr th:only-of-type {\n",
       "        vertical-align: middle;\n",
       "    }\n",
       "\n",
       "    .dataframe tbody tr th {\n",
       "        vertical-align: top;\n",
       "    }\n",
       "\n",
       "    .dataframe thead th {\n",
       "        text-align: right;\n",
       "    }\n",
       "</style>\n",
       "<table border=\"1\" class=\"dataframe\">\n",
       "  <thead>\n",
       "    <tr style=\"text-align: right;\">\n",
       "      <th></th>\n",
       "      <th>runtime_minutes</th>\n",
       "      <th>averagerating</th>\n",
       "      <th>domestic_gross</th>\n",
       "      <th>foreign_gross</th>\n",
       "      <th>global_sales</th>\n",
       "    </tr>\n",
       "  </thead>\n",
       "  <tbody>\n",
       "    <tr>\n",
       "      <th>count</th>\n",
       "      <td>1767.000000</td>\n",
       "      <td>1767.000000</td>\n",
       "      <td>1.767000e+03</td>\n",
       "      <td>1.767000e+03</td>\n",
       "      <td>1.767000e+03</td>\n",
       "    </tr>\n",
       "    <tr>\n",
       "      <th>mean</th>\n",
       "      <td>107.895869</td>\n",
       "      <td>6.459706</td>\n",
       "      <td>5.008103e+07</td>\n",
       "      <td>7.959582e+07</td>\n",
       "      <td>1.296768e+08</td>\n",
       "    </tr>\n",
       "    <tr>\n",
       "      <th>std</th>\n",
       "      <td>20.105904</td>\n",
       "      <td>0.991033</td>\n",
       "      <td>8.101089e+07</td>\n",
       "      <td>1.403646e+08</td>\n",
       "      <td>2.103367e+08</td>\n",
       "    </tr>\n",
       "    <tr>\n",
       "      <th>min</th>\n",
       "      <td>3.000000</td>\n",
       "      <td>1.600000</td>\n",
       "      <td>4.000000e+02</td>\n",
       "      <td>6.000000e+02</td>\n",
       "      <td>1.080000e+04</td>\n",
       "    </tr>\n",
       "    <tr>\n",
       "      <th>25%</th>\n",
       "      <td>95.000000</td>\n",
       "      <td>5.900000</td>\n",
       "      <td>1.300000e+06</td>\n",
       "      <td>4.900000e+06</td>\n",
       "      <td>1.018610e+07</td>\n",
       "    </tr>\n",
       "    <tr>\n",
       "      <th>50%</th>\n",
       "      <td>106.000000</td>\n",
       "      <td>6.500000</td>\n",
       "      <td>2.110000e+07</td>\n",
       "      <td>2.150000e+07</td>\n",
       "      <td>4.840000e+07</td>\n",
       "    </tr>\n",
       "    <tr>\n",
       "      <th>75%</th>\n",
       "      <td>119.000000</td>\n",
       "      <td>7.100000</td>\n",
       "      <td>6.120000e+07</td>\n",
       "      <td>8.195000e+07</td>\n",
       "      <td>1.481000e+08</td>\n",
       "    </tr>\n",
       "    <tr>\n",
       "      <th>max</th>\n",
       "      <td>272.000000</td>\n",
       "      <td>9.200000</td>\n",
       "      <td>7.001000e+08</td>\n",
       "      <td>9.464000e+08</td>\n",
       "      <td>1.405400e+09</td>\n",
       "    </tr>\n",
       "  </tbody>\n",
       "</table>\n",
       "</div>"
      ],
      "text/plain": [
       "       runtime_minutes  averagerating  domestic_gross  foreign_gross  \\\n",
       "count      1767.000000    1767.000000    1.767000e+03   1.767000e+03   \n",
       "mean        107.895869       6.459706    5.008103e+07   7.959582e+07   \n",
       "std          20.105904       0.991033    8.101089e+07   1.403646e+08   \n",
       "min           3.000000       1.600000    4.000000e+02   6.000000e+02   \n",
       "25%          95.000000       5.900000    1.300000e+06   4.900000e+06   \n",
       "50%         106.000000       6.500000    2.110000e+07   2.150000e+07   \n",
       "75%         119.000000       7.100000    6.120000e+07   8.195000e+07   \n",
       "max         272.000000       9.200000    7.001000e+08   9.464000e+08   \n",
       "\n",
       "       global_sales  \n",
       "count  1.767000e+03  \n",
       "mean   1.296768e+08  \n",
       "std    2.103367e+08  \n",
       "min    1.080000e+04  \n",
       "25%    1.018610e+07  \n",
       "50%    4.840000e+07  \n",
       "75%    1.481000e+08  \n",
       "max    1.405400e+09  "
      ]
     },
     "execution_count": 27,
     "metadata": {},
     "output_type": "execute_result"
    }
   ],
   "source": [
    "# Descriptive statistics\n",
    "movie_db.describe()"
   ]
  },
  {
   "cell_type": "markdown",
   "metadata": {},
   "source": [
    "#  Findings Central Tendencies \n",
    "\n",
    "## runtime_minutes:\n",
    "Mean: 107.90 minutes\n",
    "\n",
    "Median (50th Percentile): 106 minutes\n",
    "\n",
    "Minimum: 3 minutes\n",
    "\n",
    "Maximum: 272 minutes\n",
    "## averagerating:\n",
    "Mean: 6.46\n",
    "\n",
    "Median (50th Percentile): 6.5\n",
    "\n",
    "Minimum: 1.6\n",
    "\n",
    "Maximum: 9.2\n",
    "\n",
    "## domestic_gross:\n",
    "Mean: $50,081,030\n",
    "\n",
    "Median (50th Percentile): $21,100,000\n",
    "\n",
    "Minimum: $400\n",
    "\n",
    "Maximum: $700,100,000\n",
    "\n",
    "## foreign_gross:\n",
    "Mean: $79,595,820\n",
    "\n",
    "Median (50th Percentile): $21,500,000\n",
    "\n",
    "Minimum: $600\n",
    "\n",
    "Maximum: $946,400,000\n",
    "\n",
    "## global_sales:\n",
    "Mean: $129,676,800\n",
    "\n",
    "Median (50th Percentile): $48,400,000\n",
    "\n",
    "Minimum: $10,800\n",
    "\n",
    "Maximum: $1,405,400,000\n",
    "\n"
   ]
  },
  {
   "cell_type": "code",
   "execution_count": 28,
   "metadata": {},
   "outputs": [],
   "source": [
    "# Convert the DataFrame to a CSV file to be used for more dynamic exploration \n",
    "# Use index=False to exclude the row\n",
    "movie_db.to_csv('output.csv', index=False)"
   ]
  },
  {
   "cell_type": "markdown",
   "metadata": {},
   "source": [
    "# Analyzing the data and building visualizations"
   ]
  },
  {
   "cell_type": "markdown",
   "metadata": {},
   "source": [
    " # Group by year\n",
    "Group the movies by year, organizing them based on global sales categories."
   ]
  },
  {
   "cell_type": "code",
   "execution_count": 29,
   "metadata": {},
   "outputs": [
    {
     "data": {
      "text/plain": [
       "<pandas.core.groupby.generic.DataFrameGroupBy object at 0x000002711C356400>"
      ]
     },
     "execution_count": 29,
     "metadata": {},
     "output_type": "execute_result"
    }
   ],
   "source": [
    "# Overview of movies between 2010 and 2018\n",
    "GB_year= movie_db.groupby(['year'])\n",
    "GB_year"
   ]
  },
  {
   "cell_type": "code",
   "execution_count": 30,
   "metadata": {},
   "outputs": [
    {
     "data": {
      "image/png": "[encoded data removed]",
      "text/plain": [
       "<Figure size 1080x720 with 1 Axes>"
      ]
     },
     "metadata": {
      "needs_background": "light"
     },
     "output_type": "display_data"
    }
   ],
   "source": [
    "# Movies through the years\n",
    "movies_years= GB_year.count().sort_values(by='title', ascending=False)\n",
    "\n",
    "# Create visualization\n",
    "plt.figure(figsize=(15, 10))\n",
    "movies_years['title'].plot(kind='line',color='blue' ,fontsize=12)\n",
    "plt.title('Movies Through the Years',fontsize=15)\n",
    "plt.xlabel('Year ', fontsize=14)\n",
    "plt.ylabel('Number of Movies', fontsize=14)\n",
    "plt.grid(True)\n",
    "plt.style.use('seaborn-dark-palette')"
   ]
  },
  {
   "cell_type": "code",
   "execution_count": 31,
   "metadata": {},
   "outputs": [
    {
     "data": {
      "text/plain": [
       "<Figure size 720x360 with 0 Axes>"
      ]
     },
     "metadata": {},
     "output_type": "display_data"
    },
    {
     "data": {
      "image/png": "[encoded data removed]",
      "text/plain": [
       "<Figure size 432x288 with 1 Axes>"
      ]
     },
     "metadata": {
      "needs_background": "light"
     },
     "output_type": "display_data"
    }
   ],
   "source": [
    "# Movie sales through the years\n",
    "movies_sales= GB_year.sum().sort_values(by=['global_sales']) \n",
    "\n",
    "# Create visualization\n",
    "plt.figure(figsize=(10, 5))\n",
    "movies_sales.drop(['runtime_minutes','averagerating'], axis=1).plot(kind='line' ,fontsize=12)\n",
    "plt.title(' Movie Sales Across Markets',fontsize=15)\n",
    "plt.xlabel('Year ', fontsize=14)\n",
    "plt.ylabel(' Gross Sales', fontsize=14)\n",
    "plt.grid(True)\n",
    "plt.style.use('ggplot')"
   ]
  },
  {
   "cell_type": "markdown",
   "metadata": {},
   "source": [
    "# Findings: Market performance through the years\n",
    "\n",
    "The findings reveal that between 2010 and 2018, there was a decline in the quantity of movies produced.\n",
    " Simultaneously, both foreign and global sales experienced significant upward trends, whereas domestic sales showed a moderate increase. This suggests an inverse relationship between the variables during the specified period. "
   ]
  },
  {
   "cell_type": "markdown",
   "metadata": {},
   "source": [
    "#  Analysis of Genres\n",
    "Genre analysis involves grouping genres to examine their relationships with other variables in the dataset, such as average rating, movie length, and sales. By categorizing genres based on these factors, I obtained gainful insights into their interrelationships and their impact on various aspects of the dataset"
   ]
  },
  {
   "cell_type": "markdown",
   "metadata": {},
   "source": [
    "There are 260 different genres in the dataset.To  identify the genre that appears most frequently the mode of the 'genres' column in the 'movie_db' dataset is determined "
   ]
  },
  {
   "cell_type": "code",
   "execution_count": 32,
   "metadata": {},
   "outputs": [
    {
     "data": {
      "text/plain": [
       "0    Drama\n",
       "dtype: object"
      ]
     },
     "execution_count": 32,
     "metadata": {},
     "output_type": "execute_result"
    }
   ],
   "source": [
    "# There are 260 different genres in the dataset. Identify the genre that appears most frequently. \n",
    "movie_db['genres'].mode()"
   ]
  },
  {
   "cell_type": "code",
   "execution_count": 33,
   "metadata": {},
   "outputs": [],
   "source": [
    "# Groupby genres\n",
    "GB_genres= movie_db.groupby(['genres'])"
   ]
  },
  {
   "cell_type": "code",
   "execution_count": 34,
   "metadata": {},
   "outputs": [
    {
     "data": {
      "image/png": "[encoded data removed]",
      "text/plain": [
       "<Figure size 720x360 with 1 Axes>"
      ]
     },
     "metadata": {},
     "output_type": "display_data"
    }
   ],
   "source": [
    "# Top rating genre \n",
    "Top_rating= GB_genres.mean().sort_values(by=['averagerating'], ascending = False).head(10)\n",
    "# Create plot\n",
    "plt.figure(figsize=(10, 5))\n",
    "Top_rating['averagerating'].plot(kind='bar' ,fontsize=14 )\n",
    "plt.title('Top Rating Genres', fontsize=14)\n",
    "plt.xlabel('Genres',fontsize=14)\n",
    "plt.ylabel('Average Rating', fontsize=14)\n",
    "plt.grid(True)\n",
    "plt.style.use('Solarize_Light2')"
   ]
  },
  {
   "cell_type": "markdown",
   "metadata": {},
   "source": [
    "# Findings\n",
    "\n",
    "The analysis revealed the average ratings for each genre group. Notably, genres such as \"Adventure\", \"Action, Sport\", and \"Drama, Western\" emerged as the top-ranking genres with the highest average ratings."
   ]
  },
  {
   "cell_type": "code",
   "execution_count": 35,
   "metadata": {},
   "outputs": [
    {
     "data": {
      "text/html": [
       "<div>\n",
       "<style scoped>\n",
       "    .dataframe tbody tr th:only-of-type {\n",
       "        vertical-align: middle;\n",
       "    }\n",
       "\n",
       "    .dataframe tbody tr th {\n",
       "        vertical-align: top;\n",
       "    }\n",
       "\n",
       "    .dataframe thead th {\n",
       "        text-align: right;\n",
       "    }\n",
       "</style>\n",
       "<table border=\"1\" class=\"dataframe\">\n",
       "  <thead>\n",
       "    <tr style=\"text-align: right;\">\n",
       "      <th></th>\n",
       "      <th>runtime_minutes</th>\n",
       "      <th>averagerating</th>\n",
       "      <th>domestic_gross</th>\n",
       "      <th>foreign_gross</th>\n",
       "      <th>global_sales</th>\n",
       "    </tr>\n",
       "    <tr>\n",
       "      <th>genres</th>\n",
       "      <th></th>\n",
       "      <th></th>\n",
       "      <th></th>\n",
       "      <th></th>\n",
       "      <th></th>\n",
       "    </tr>\n",
       "  </thead>\n",
       "  <tbody>\n",
       "    <tr>\n",
       "      <th>Action,Adventure,Sci-Fi</th>\n",
       "      <td>5987.0</td>\n",
       "      <td>313.2</td>\n",
       "      <td>1.102250e+10</td>\n",
       "      <td>1.661140e+10</td>\n",
       "      <td>2.763390e+10</td>\n",
       "    </tr>\n",
       "    <tr>\n",
       "      <th>Adventure,Animation,Comedy</th>\n",
       "      <td>6799.0</td>\n",
       "      <td>466.1</td>\n",
       "      <td>9.618338e+09</td>\n",
       "      <td>1.796220e+10</td>\n",
       "      <td>2.758054e+10</td>\n",
       "    </tr>\n",
       "    <tr>\n",
       "      <th>Action,Adventure,Fantasy</th>\n",
       "      <td>3655.0</td>\n",
       "      <td>194.9</td>\n",
       "      <td>4.378787e+09</td>\n",
       "      <td>8.936100e+09</td>\n",
       "      <td>1.331489e+10</td>\n",
       "    </tr>\n",
       "    <tr>\n",
       "      <th>Action,Adventure,Comedy</th>\n",
       "      <td>2854.0</td>\n",
       "      <td>163.2</td>\n",
       "      <td>3.170914e+09</td>\n",
       "      <td>6.494200e+09</td>\n",
       "      <td>9.665114e+09</td>\n",
       "    </tr>\n",
       "    <tr>\n",
       "      <th>Action,Adventure,Thriller</th>\n",
       "      <td>1959.0</td>\n",
       "      <td>104.9</td>\n",
       "      <td>1.851100e+09</td>\n",
       "      <td>4.748300e+09</td>\n",
       "      <td>6.599400e+09</td>\n",
       "    </tr>\n",
       "    <tr>\n",
       "      <th>Action,Adventure,Animation</th>\n",
       "      <td>1717.0</td>\n",
       "      <td>126.1</td>\n",
       "      <td>2.168615e+09</td>\n",
       "      <td>4.269500e+09</td>\n",
       "      <td>6.438115e+09</td>\n",
       "    </tr>\n",
       "    <tr>\n",
       "      <th>Drama</th>\n",
       "      <td>12015.0</td>\n",
       "      <td>763.6</td>\n",
       "      <td>2.411594e+09</td>\n",
       "      <td>3.099462e+09</td>\n",
       "      <td>5.511056e+09</td>\n",
       "    </tr>\n",
       "    <tr>\n",
       "      <th>Action,Adventure,Drama</th>\n",
       "      <td>3662.0</td>\n",
       "      <td>194.1</td>\n",
       "      <td>1.751412e+09</td>\n",
       "      <td>3.606132e+09</td>\n",
       "      <td>5.357543e+09</td>\n",
       "    </tr>\n",
       "    <tr>\n",
       "      <th>Comedy</th>\n",
       "      <td>5535.0</td>\n",
       "      <td>319.2</td>\n",
       "      <td>2.321740e+09</td>\n",
       "      <td>2.449174e+09</td>\n",
       "      <td>4.770914e+09</td>\n",
       "    </tr>\n",
       "    <tr>\n",
       "      <th>Action,Thriller</th>\n",
       "      <td>2580.0</td>\n",
       "      <td>133.5</td>\n",
       "      <td>1.354417e+09</td>\n",
       "      <td>2.424300e+09</td>\n",
       "      <td>3.778717e+09</td>\n",
       "    </tr>\n",
       "  </tbody>\n",
       "</table>\n",
       "</div>"
      ],
      "text/plain": [
       "                            runtime_minutes  averagerating  domestic_gross  \\\n",
       "genres                                                                       \n",
       "Action,Adventure,Sci-Fi              5987.0          313.2    1.102250e+10   \n",
       "Adventure,Animation,Comedy           6799.0          466.1    9.618338e+09   \n",
       "Action,Adventure,Fantasy             3655.0          194.9    4.378787e+09   \n",
       "Action,Adventure,Comedy              2854.0          163.2    3.170914e+09   \n",
       "Action,Adventure,Thriller            1959.0          104.9    1.851100e+09   \n",
       "Action,Adventure,Animation           1717.0          126.1    2.168615e+09   \n",
       "Drama                               12015.0          763.6    2.411594e+09   \n",
       "Action,Adventure,Drama               3662.0          194.1    1.751412e+09   \n",
       "Comedy                               5535.0          319.2    2.321740e+09   \n",
       "Action,Thriller                      2580.0          133.5    1.354417e+09   \n",
       "\n",
       "                            foreign_gross  global_sales  \n",
       "genres                                                   \n",
       "Action,Adventure,Sci-Fi      1.661140e+10  2.763390e+10  \n",
       "Adventure,Animation,Comedy   1.796220e+10  2.758054e+10  \n",
       "Action,Adventure,Fantasy     8.936100e+09  1.331489e+10  \n",
       "Action,Adventure,Comedy      6.494200e+09  9.665114e+09  \n",
       "Action,Adventure,Thriller    4.748300e+09  6.599400e+09  \n",
       "Action,Adventure,Animation   4.269500e+09  6.438115e+09  \n",
       "Drama                        3.099462e+09  5.511056e+09  \n",
       "Action,Adventure,Drama       3.606132e+09  5.357543e+09  \n",
       "Comedy                       2.449174e+09  4.770914e+09  \n",
       "Action,Thriller              2.424300e+09  3.778717e+09  "
      ]
     },
     "execution_count": 35,
     "metadata": {},
     "output_type": "execute_result"
    }
   ],
   "source": [
    "# Market performance categorized by genres .\n",
    "Top_genre_sales = GB_genres.sum().sort_values(by='global_sales', ascending=False).head(10)\n",
    "Top_genre_sales"
   ]
  },
  {
   "cell_type": "code",
   "execution_count": 36,
   "metadata": {},
   "outputs": [],
   "source": [
    "# Modify dataframe \n",
    "Top_genre_sales_lessColumns= Top_genre_sales.drop(['runtime_minutes', 'averagerating'] ,axis=1)"
   ]
  },
  {
   "cell_type": "code",
   "execution_count": 37,
   "metadata": {},
   "outputs": [
    {
     "data": {
      "text/plain": [
       "<Figure size 1800x1080 with 0 Axes>"
      ]
     },
     "metadata": {},
     "output_type": "display_data"
    },
    {
     "data": {
      "image/png": "[encoded data removed]",
      "text/plain": [
       "<Figure size 432x288 with 1 Axes>"
      ]
     },
     "metadata": {},
     "output_type": "display_data"
    }
   ],
   "source": [
    "# Create visualization \n",
    "plt.figure(figsize=(25, 15))\n",
    "Top_genre_sales_lessColumns.plot(kind='bar' ,stacked =True, fontsize=12)\n",
    "plt.title(' Market Performance by  Genres',fontsize=15)\n",
    "plt.xlabel('Genres', fontsize=14)\n",
    "plt.ylabel('Movie Sales', fontsize=14)\n",
    "plt.grid(True)\n",
    "plt.style.use('seaborn-colorblind')"
   ]
  },
  {
   "cell_type": "code",
   "execution_count": 38,
   "metadata": {},
   "outputs": [
    {
     "name": "stdout",
     "output_type": "stream",
     "text": [
      "['Solarize_Light2', '_classic_test_patch', 'bmh', 'classic', 'dark_background', 'fast', 'fivethirtyeight', 'ggplot', 'grayscale', 'seaborn', 'seaborn-bright', 'seaborn-colorblind', 'seaborn-dark', 'seaborn-dark-palette', 'seaborn-darkgrid', 'seaborn-deep', 'seaborn-muted', 'seaborn-notebook', 'seaborn-paper', 'seaborn-pastel', 'seaborn-poster', 'seaborn-talk', 'seaborn-ticks', 'seaborn-white', 'seaborn-whitegrid', 'tableau-colorblind10']\n"
     ]
    }
   ],
   "source": [
    "print(plt.style.available)\n"
   ]
  },
  {
   "cell_type": "markdown",
   "metadata": {},
   "source": [
    "# Findings\n",
    "\n",
    "Findings reveal that the genres emerged as the top global grossing genres are: \n",
    "\n",
    "\"Action, Adventure, Sci-Fi\", \n",
    "\"Adventure, Animation, Comedy\",\n",
    "\"Action, Adventure, Fantasy\" \n",
    "\n",
    "### Findings Domestic vs Foreign Sales\n",
    "\n",
    "Analysis comparing domestic and foreign sales by genre indicates that the top domestic sales were: \n",
    "\n",
    "\"Action, Adventure, Sci-Fi\",\n",
    "\"Adventure, Animation, Comedy\",\n",
    "\"Action, Adventure, Fantasy\".\n",
    "\n",
    "Conversely, for foreign sales, the leading genres were:\n",
    "\"Adventure, Animation, Comedy\",\n",
    "\"Action, Adventure, Sci-Fi\",\n",
    "\"Action, Adventure, Fantasy"
   ]
  },
  {
   "cell_type": "code",
   "execution_count": 39,
   "metadata": {},
   "outputs": [
    {
     "data": {
      "image/png": "[encoded data removed]",
      "text/plain": [
       "<Figure size 720x360 with 1 Axes>"
      ]
     },
     "metadata": {},
     "output_type": "display_data"
    }
   ],
   "source": [
    "# The duration of movies categorized by genres.\n",
    "Top_length= GB_genres.mean().sort_values(by=['runtime_minutes'], ascending = False).head(10)\n",
    "# Create plot\n",
    "plt.figure(figsize=(10, 5))\n",
    "Top_length['runtime_minutes'].plot(kind='barh',color='blue' )\n",
    "plt.title('Top Runtime by Genre')\n",
    "plt.xlabel('Average Runtime')\n",
    "plt.ylabel('Genres')\n",
    "plt.grid(True)\n",
    "plt.style.use('seaborn-colorblind')"
   ]
  },
  {
   "cell_type": "code",
   "execution_count": 40,
   "metadata": {},
   "outputs": [
    {
     "data": {
      "image/png": "[encoded data removed]",
      "text/plain": [
       "<Figure size 720x360 with 1 Axes>"
      ]
     },
     "metadata": {},
     "output_type": "display_data"
    }
   ],
   "source": [
    "Short_length= GB_genres.mean().sort_values(by=['runtime_minutes'], ascending =True).head(10)\n",
    "# Create plot\n",
    "plt.figure(figsize=(10, 5))\n",
    "Short_length['runtime_minutes'].plot(kind='barh', color='lime')\n",
    "plt.title('Shortest Runtime by Genre')\n",
    "plt.xlabel('Mean Runtime')\n",
    "plt.ylabel('Genres')\n",
    "plt.grid(True)\n"
   ]
  },
  {
   "cell_type": "markdown",
   "metadata": {},
   "source": [
    "Findings\n",
    "\n",
    "Determining the mean runtime duration for each category of genres, indicated that the top three genres with the lengthiest average runtimes are \n",
    "\"Drama, Western,\" \n",
    "\"Adventure, Drama, Sci-Fi,\" and \n",
    "\"Drama, History, Sports.\"\n",
    "\n",
    "Conversely, genres exhibiting the shortest average durations include \n",
    "\"Action, Sport,\" \n",
    "\"Adventure, Comedy, Horror,\" and\n",
    "\"Documentary, News.\""
   ]
  },
  {
   "cell_type": "markdown",
   "metadata": {},
   "source": [
    "# Examination of Movie Duration (runtime_minutes)\n",
    "The runtime_minutes variable will be scrutinized to explore the correlation between movie duration and average rating, as well as the relationship between movie duration and sales across various markets."
   ]
  },
  {
   "cell_type": "code",
   "execution_count": 41,
   "metadata": {},
   "outputs": [],
   "source": [
    "#Groupby 'runtime_minutes'\n",
    "GB_runtime= movie_db.groupby(['runtime_minutes'])\n"
   ]
  },
  {
   "cell_type": "code",
   "execution_count": 42,
   "metadata": {},
   "outputs": [
    {
     "data": {
      "text/html": [
       "<div>\n",
       "<style scoped>\n",
       "    .dataframe tbody tr th:only-of-type {\n",
       "        vertical-align: middle;\n",
       "    }\n",
       "\n",
       "    .dataframe tbody tr th {\n",
       "        vertical-align: top;\n",
       "    }\n",
       "\n",
       "    .dataframe thead th {\n",
       "        text-align: right;\n",
       "    }\n",
       "</style>\n",
       "<table border=\"1\" class=\"dataframe\">\n",
       "  <thead>\n",
       "    <tr style=\"text-align: right;\">\n",
       "      <th></th>\n",
       "      <th>averagerating</th>\n",
       "      <th>domestic_gross</th>\n",
       "      <th>foreign_gross</th>\n",
       "      <th>global_sales</th>\n",
       "    </tr>\n",
       "    <tr>\n",
       "      <th>runtime_minutes</th>\n",
       "      <th></th>\n",
       "      <th></th>\n",
       "      <th></th>\n",
       "      <th></th>\n",
       "    </tr>\n",
       "  </thead>\n",
       "  <tbody>\n",
       "    <tr>\n",
       "      <th>59.0</th>\n",
       "      <td>7.300000</td>\n",
       "      <td>3.565000e+08</td>\n",
       "      <td>5.011000e+08</td>\n",
       "      <td>8.576000e+08</td>\n",
       "    </tr>\n",
       "    <tr>\n",
       "      <th>147.0</th>\n",
       "      <td>7.833333</td>\n",
       "      <td>2.631667e+08</td>\n",
       "      <td>4.522000e+08</td>\n",
       "      <td>7.153667e+08</td>\n",
       "    </tr>\n",
       "    <tr>\n",
       "      <th>152.0</th>\n",
       "      <td>6.950000</td>\n",
       "      <td>3.113500e+08</td>\n",
       "      <td>3.589000e+08</td>\n",
       "      <td>6.702500e+08</td>\n",
       "    </tr>\n",
       "    <tr>\n",
       "      <th>143.0</th>\n",
       "      <td>6.440000</td>\n",
       "      <td>1.965594e+08</td>\n",
       "      <td>4.267000e+08</td>\n",
       "      <td>6.232594e+08</td>\n",
       "    </tr>\n",
       "    <tr>\n",
       "      <th>136.0</th>\n",
       "      <td>7.166667</td>\n",
       "      <td>2.298568e+08</td>\n",
       "      <td>3.715157e+08</td>\n",
       "      <td>6.013725e+08</td>\n",
       "    </tr>\n",
       "    <tr>\n",
       "      <th>169.0</th>\n",
       "      <td>8.333333</td>\n",
       "      <td>1.637593e+08</td>\n",
       "      <td>4.025229e+08</td>\n",
       "      <td>5.662822e+08</td>\n",
       "    </tr>\n",
       "    <tr>\n",
       "      <th>60.0</th>\n",
       "      <td>5.550000</td>\n",
       "      <td>2.497500e+08</td>\n",
       "      <td>2.136500e+08</td>\n",
       "      <td>4.634000e+08</td>\n",
       "    </tr>\n",
       "    <tr>\n",
       "      <th>164.0</th>\n",
       "      <td>7.800000</td>\n",
       "      <td>1.840000e+08</td>\n",
       "      <td>2.717000e+08</td>\n",
       "      <td>4.557000e+08</td>\n",
       "    </tr>\n",
       "    <tr>\n",
       "      <th>161.0</th>\n",
       "      <td>7.466667</td>\n",
       "      <td>9.213333e+07</td>\n",
       "      <td>3.574333e+08</td>\n",
       "      <td>4.495667e+08</td>\n",
       "    </tr>\n",
       "    <tr>\n",
       "      <th>154.0</th>\n",
       "      <td>6.350000</td>\n",
       "      <td>1.207350e+08</td>\n",
       "      <td>3.250750e+08</td>\n",
       "      <td>4.458100e+08</td>\n",
       "    </tr>\n",
       "  </tbody>\n",
       "</table>\n",
       "</div>"
      ],
      "text/plain": [
       "                 averagerating  domestic_gross  foreign_gross  global_sales\n",
       "runtime_minutes                                                            \n",
       "59.0                  7.300000    3.565000e+08   5.011000e+08  8.576000e+08\n",
       "147.0                 7.833333    2.631667e+08   4.522000e+08  7.153667e+08\n",
       "152.0                 6.950000    3.113500e+08   3.589000e+08  6.702500e+08\n",
       "143.0                 6.440000    1.965594e+08   4.267000e+08  6.232594e+08\n",
       "136.0                 7.166667    2.298568e+08   3.715157e+08  6.013725e+08\n",
       "169.0                 8.333333    1.637593e+08   4.025229e+08  5.662822e+08\n",
       "60.0                  5.550000    2.497500e+08   2.136500e+08  4.634000e+08\n",
       "164.0                 7.800000    1.840000e+08   2.717000e+08  4.557000e+08\n",
       "161.0                 7.466667    9.213333e+07   3.574333e+08  4.495667e+08\n",
       "154.0                 6.350000    1.207350e+08   3.250750e+08  4.458100e+08"
      ]
     },
     "execution_count": 42,
     "metadata": {},
     "output_type": "execute_result"
    }
   ],
   "source": [
    "Top_length= GB_runtime.mean().sort_values(by=['global_sales'], ascending = False).head(10)\n",
    "Top_length"
   ]
  },
  {
   "cell_type": "code",
   "execution_count": 43,
   "metadata": {
    "scrolled": true
   },
   "outputs": [
    {
     "data": {
      "text/plain": [
       "<Figure size 1800x1080 with 0 Axes>"
      ]
     },
     "metadata": {},
     "output_type": "display_data"
    },
    {
     "data": {
      "image/png": "[encoded data removed]",
      "text/plain": [
       "<Figure size 432x288 with 1 Axes>"
      ]
     },
     "metadata": {},
     "output_type": "display_data"
    }
   ],
   "source": [
    "# Movie length market performanace \n",
    "# Modify data frame \n",
    "Top_length_lessColumns= Top_length.drop([ 'averagerating'] ,axis=1)\n",
    "# Create visualization \n",
    "plt.figure(figsize=(25, 15))\n",
    "Top_length_lessColumns.plot(kind='bar' )\n",
    "plt.title('Top Grossing Movie Length')\n",
    "plt.xlabel('Runtime_Minutes ')\n",
    "plt.ylabel('Movie Sales')\n",
    "plt.grid(True)\n",
    "plt.style.use('seaborn-colorblind')"
   ]
  },
  {
   "cell_type": "markdown",
   "metadata": {},
   "source": [
    "\n",
    "# Findings \n",
    "Among the various movie lengths observed, movies with a runtime of 59 minutes generated the highest  global gross sales $  n8.5B. \n",
    "\n",
    "Analysis of movie runtimes across different markets reveals that a runtime of 59 minutes emerged as the top performer, leading\n",
    "\n",
    "both the domestic market with 3.5B dollars  and the foreign market with 5B dollars. \n",
    "\n",
    "Following closely in the domestic market were runtimes of 152 and 149 minutes, while in the foreign markets, they were 147 and 143 minutes."
   ]
  },
  {
   "cell_type": "code",
   "execution_count": 44,
   "metadata": {},
   "outputs": [
    {
     "data": {
      "image/png": "[encoded data removed]",
      "text/plain": [
       "<Figure size 720x432 with 1 Axes>"
      ]
     },
     "metadata": {},
     "output_type": "display_data"
    }
   ],
   "source": [
    "# Visualize the relationship between the movie length  and the  global sales  using scatter plots\n",
    "\n",
    "\n",
    "plt.figure(figsize=(10, 6))\n",
    "plt.scatter(movie_db['runtime_minutes'], movie_db['global_sales'], alpha=0.5, color ='blue')\n",
    "plt.title('Global Sales by Runtime')\n",
    "plt.xlabel('Runtime (minutes)')\n",
    "plt.ylabel('Global Sales')\n",
    "plt.show()"
   ]
  },
  {
   "cell_type": "markdown",
   "metadata": {},
   "source": [
    "# Findings\n",
    "This scatter plot suggests that movie runtime alone does not directly determine global sales. Other factors seems to be  contributing  to the variation in movie sales. Further analysis is needed to explore additional variables affecting movie revenue generation. "
   ]
  },
  {
   "cell_type": "code",
   "execution_count": 45,
   "metadata": {},
   "outputs": [
    {
     "data": {
      "image/png": "[encoded data removed]",
      "text/plain": [
       "<Figure size 720x360 with 1 Axes>"
      ]
     },
     "metadata": {},
     "output_type": "display_data"
    }
   ],
   "source": [
    "# Top movie length average rating \n",
    "Top_rate= GB_runtime.mean().sort_values(by=['averagerating'], ascending = False).head(10)\n",
    "\n",
    "# Create visualization \n",
    "plt.figure(figsize=(10, 5))\n",
    "Top_rate['averagerating'].plot(kind='bar', color='green' )\n",
    "plt.title('Top Rating Movie Length')\n",
    "plt.xlabel('Runtime_Minutes ')\n",
    "plt.ylabel('Average Movie Rating')\n",
    "plt.grid(True)\n",
    "plt.style.use('seaborn-colorblind')"
   ]
  },
  {
   "cell_type": "markdown",
   "metadata": {},
   "source": [
    "# Findings\n",
    "Analysis of the average movie length and average showed that movie lenth of 192 enjoyed the highest rating folllowed by 45 and 47 minutes. "
   ]
  },
  {
   "cell_type": "code",
   "execution_count": 46,
   "metadata": {},
   "outputs": [
    {
     "data": {
      "image/png": "[encoded data removed]",
      "text/plain": [
       "<Figure size 720x432 with 1 Axes>"
      ]
     },
     "metadata": {},
     "output_type": "display_data"
    }
   ],
   "source": [
    "# Visualize the relationship between the movie runtimes and the movie average rating\n",
    "# Plot a scatter plot\n",
    "plt.figure(figsize=(10, 6))\n",
    "plt.scatter(movie_db['runtime_minutes'], movie_db['averagerating'], alpha=0.5, color ='blue')\n",
    "plt.title('Movie Rating by Runtime')\n",
    "plt.xlabel('Runtime (minutes)')\n",
    "plt.ylabel('Rating')\n",
    "plt.show()"
   ]
  },
  {
   "cell_type": "markdown",
   "metadata": {},
   "source": [
    "# Findings\n",
    " This scatter plot represents the relationship between movie runtime and average ratings. The concentration around certain runtime values suggests an interesting pattern. Further analysis could reveal insights about optimal movie length for higher ratings. "
   ]
  },
  {
   "cell_type": "code",
   "execution_count": 47,
   "metadata": {},
   "outputs": [],
   "source": [
    "# Groupby averagerating\n",
    "GB_rating= movie_db.groupby(['averagerating'])\n",
    "Top_rate=GB_rating.mean().sort_values(by=['global_sales'], ascending = False).head(10)"
   ]
  },
  {
   "cell_type": "code",
   "execution_count": 48,
   "metadata": {},
   "outputs": [
    {
     "data": {
      "text/plain": [
       "<Figure size 1800x1080 with 0 Axes>"
      ]
     },
     "metadata": {},
     "output_type": "display_data"
    },
    {
     "data": {
      "image/png": "[encoded data removed]",
      "text/plain": [
       "<Figure size 432x288 with 1 Axes>"
      ]
     },
     "metadata": {},
     "output_type": "display_data"
    }
   ],
   "source": [
    "# Movie length market performanace \n",
    "# Modify data frame \n",
    "Top_rate_lessColumns= Top_rate.drop(['runtime_minutes'] ,axis=1)\n",
    "# Create visualization \n",
    "plt.figure(figsize=(25, 15))\n",
    "Top_rate_lessColumns.plot(kind='bar' )\n",
    "plt.title('Top Grossing Rating')\n",
    "plt.xlabel('Average Rating  ')\n",
    "plt.ylabel('Movie Sales')\n",
    "plt.grid(True)\n",
    "plt.style.use('seaborn-colorblind')"
   ]
  },
  {
   "cell_type": "code",
   "execution_count": 49,
   "metadata": {},
   "outputs": [
    {
     "data": {
      "image/png": "[encoded data removed]",
      "text/plain": [
       "<Figure size 720x432 with 1 Axes>"
      ]
     },
     "metadata": {},
     "output_type": "display_data"
    }
   ],
   "source": [
    "# Visualize the relationship between the movie average rating and the movie sales\n",
    "# Plot a scatter plot\n",
    "plt.figure(figsize=(10, 6))\n",
    "plt.scatter(movie_db['averagerating'], movie_db['global_sales'], alpha=0.5, color ='blue')\n",
    "plt.title('  Global Sales by Ratings')\n",
    "plt.xlabel('Movie Ratings')\n",
    "plt.ylabel('Global Sales')\n",
    "plt.show()"
   ]
  },
  {
   "cell_type": "markdown",
   "metadata": {},
   "source": [
    "# Findings\n",
    "This scatter plot represents the relationship between movie ratings and their corresponding global sales. There is a concentration around certain ratings. Further analysis could reveal insights about the impact of ratings on global sales. "
   ]
  },
  {
   "cell_type": "code",
   "execution_count": 72,
   "metadata": {},
   "outputs": [
    {
     "data": {
      "text/plain": [
       "Text(0.5, 1.0, 'Correlation Matrix')"
      ]
     },
     "execution_count": 72,
     "metadata": {},
     "output_type": "execute_result"
    },
    {
     "data": {
      "image/png": "[encoded data removed]",
      "text/plain": [
       "<Figure size 432x288 with 2 Axes>"
      ]
     },
     "metadata": {},
     "output_type": "display_data"
    }
   ],
   "source": [
    "# Correlation Analysis\n",
    "\n",
    "correlation_matrix = movie_db[['runtime_minutes', 'averagerating', 'global_sales']].corr()\n",
    "\n",
    "# Visualize the correlation matrix using a heatmap\n",
    "sns.heatmap(correlation_matrix, annot=True, cmap='coolwarm')\n",
    "ax = plt.gca()\n",
    "ax.set_title('Correlation Matrix')"
   ]
  },
  {
   "cell_type": "markdown",
   "metadata": {},
   "source": [
    "\n",
    "Correlation Analysis:\n",
    "\n",
    "The correlation coefficient between runtime_minutes’ and ‘averagerating’ is 0.25, between  ‘runtime_minutes’ and ‘global_sales’ is 0.19 and between ‘averagerating’ and ‘global_sales’ is 0.17.\n",
    "All correlations observed are positive, suggesting that as one variable increases, the other tends to increase as well.\n",
    "Market correlations are significant; however, their correlation with movie runtime and average rating is notably lower compared to other variables. These correlations can guide decision-making in areas of movie production and marketing"
   ]
  },
  {
   "cell_type": "markdown",
   "metadata": {},
   "source": [
    "\n"
   ]
  },
  {
   "cell_type": "markdown",
   "metadata": {},
   "source": [
    "# Additional analysis\n",
    "\n",
    "Linear regression statistcal modeling will be used to provide better insights by uncovering patterns and relationships\n",
    "to better inform  business  decision"
   ]
  },
  {
   "cell_type": "code",
   "execution_count": 51,
   "metadata": {},
   "outputs": [],
   "source": [
    "import numpy as np\n",
    "import matplotlib.pyplot as plt\n",
    "from matplotlib import style\n",
    "style.use('ggplot')\n",
    "import statsmodels.api as sm"
   ]
  },
  {
   "cell_type": "markdown",
   "metadata": {},
   "source": [
    "# Runtime as a predictor \n",
    " Run a Simple Linear Regression with runtime as the Predictor\n"
   ]
  },
  {
   "cell_type": "code",
   "execution_count": 52,
   "metadata": {},
   "outputs": [],
   "source": [
    "#  Linear regression with runtime as the predictor of global sales \n",
    "# Determine X and y values(defining the variables)\n",
    "x = movie_db['runtime_minutes']\n",
    "y = movie_db['global_sales']\n",
    "\n",
    " # Create an OLS model   \n",
    "x = sm.add_constant(x)\n",
    "model = sm.OLS(y, x)\n",
    "result=model.fit()\n"
   ]
  },
  {
   "cell_type": "code",
   "execution_count": 53,
   "metadata": {},
   "outputs": [
    {
     "name": "stdout",
     "output_type": "stream",
     "text": [
      "                            OLS Regression Results                            \n",
      "==============================================================================\n",
      "Dep. Variable:           global_sales   R-squared:                       0.036\n",
      "Model:                            OLS   Adj. R-squared:                  0.035\n",
      "Method:                 Least Squares   F-statistic:                     65.31\n",
      "Date:                Tue, 09 Apr 2024   Prob (F-statistic):           1.18e-15\n",
      "Time:                        19:29:41   Log-Likelihood:                -36338.\n",
      "No. Observations:                1767   AIC:                         7.268e+04\n",
      "Df Residuals:                    1765   BIC:                         7.269e+04\n",
      "Df Model:                           1                                         \n",
      "Covariance Type:            nonrobust                                         \n",
      "===================================================================================\n",
      "                      coef    std err          t      P>|t|      [0.025      0.975]\n",
      "-----------------------------------------------------------------------------------\n",
      "const           -8.354e+07   2.68e+07     -3.113      0.002   -1.36e+08   -3.09e+07\n",
      "runtime_minutes  1.976e+06   2.45e+05      8.081      0.000     1.5e+06    2.46e+06\n",
      "==============================================================================\n",
      "Omnibus:                     1032.552   Durbin-Watson:                   1.612\n",
      "Prob(Omnibus):                  0.000   Jarque-Bera (JB):             7891.631\n",
      "Skew:                           2.731   Prob(JB):                         0.00\n",
      "Kurtosis:                      11.795   Cond. No.                         599.\n",
      "==============================================================================\n",
      "\n",
      "Notes:\n",
      "[1] Standard Errors assume that the covariance matrix of the errors is correctly specified.\n"
     ]
    }
   ],
   "source": [
    "\n",
    "# Display results summary\n",
    "print(result.summary())"
   ]
  },
  {
   "cell_type": "markdown",
   "metadata": {},
   "source": [
    "# Findings \n",
    "\n",
    " The ordinary least square  regression was used to test if  movie length(runtime_minutes) significantly predicted gross sales.\n",
    " \n",
    "#Coefficients of the model\n",
    "#The intercept(const ): -8.354e+07 \n",
    "\n",
    "runtime_minutes  1.976e+06\n",
    "\n",
    "The fitted regression model was: Global Sales=-8.354e+07+1.976e+06*runtime_minutes\n",
    "\n",
    "Suggesting that for every additional minute in movie length, global sales are expected to increase by 1.976e+06 units($1,976,000).\n",
    "\n",
    "The overall regression was statistically significant\n",
    "R-squared: 0.036, \n",
    "Adj. R-squared:0.037 \n",
    "Approximately 3.6 percent of the variability in global sales can be explained by the length of the movie.\n",
    "\n",
    " F-statistic is 65.31,  low p-value,  (Prob (F-statistic):  1.18e-15) suggesting that the regression model is statistically \n",
    " significant. \n",
    "\n",
    "Overall, the regression model suggests that there is a statistically significant positive relationship between the runtime of movies and their global sales. However, the low R-squared value indicates that the model explains only a small portion of the variance in gross sales, suggesting that other factors not included in the model may also influence  global sales."
   ]
  },
  {
   "cell_type": "markdown",
   "metadata": {},
   "source": [
    " \n",
    " Run a Simple Linear Regression with runtime  as the Predictor and domestic sales as dependent variable \n",
    "\n",
    "As previous  analysis above indicates, the length of the movie has a realtionship with sales.  Analysis delves further   quantifying the strength of the relationship in the domestic and foreign market. "
   ]
  },
  {
   "cell_type": "code",
   "execution_count": 54,
   "metadata": {},
   "outputs": [],
   "source": [
    "# Runtime as the predictor of domestic sales\n",
    "# Determine X and y values(defining the variables)\n",
    "x = movie_db['runtime_minutes']\n",
    "y = movie_db['domestic_gross']\n",
    "    \n",
    "x = sm.add_constant(x)\n",
    "\n",
    "model = sm.OLS(y, x)\n",
    "\n",
    "#fit linear regression model\n",
    "result=model.fit()\n"
   ]
  },
  {
   "cell_type": "code",
   "execution_count": 55,
   "metadata": {},
   "outputs": [
    {
     "name": "stdout",
     "output_type": "stream",
     "text": [
      "                            OLS Regression Results                            \n",
      "==============================================================================\n",
      "Dep. Variable:         domestic_gross   R-squared:                       0.025\n",
      "Model:                            OLS   Adj. R-squared:                  0.024\n",
      "Method:                 Least Squares   F-statistic:                     44.97\n",
      "Date:                Tue, 09 Apr 2024   Prob (F-statistic):           2.69e-11\n",
      "Time:                        19:29:41   Log-Likelihood:                -34662.\n",
      "No. Observations:                1767   AIC:                         6.933e+04\n",
      "Df Residuals:                    1765   BIC:                         6.934e+04\n",
      "Df Model:                           1                                         \n",
      "Covariance Type:            nonrobust                                         \n",
      "===================================================================================\n",
      "                      coef    std err          t      P>|t|      [0.025      0.975]\n",
      "-----------------------------------------------------------------------------------\n",
      "const           -1.844e+07   1.04e+07     -1.774      0.076   -3.88e+07    1.94e+06\n",
      "runtime_minutes  6.351e+05   9.47e+04      6.706      0.000    4.49e+05    8.21e+05\n",
      "==============================================================================\n",
      "Omnibus:                     1204.770   Durbin-Watson:                   1.610\n",
      "Prob(Omnibus):                  0.000   Jarque-Bera (JB):            15969.691\n",
      "Skew:                           3.098   Prob(JB):                         0.00\n",
      "Kurtosis:                      16.361   Cond. No.                         599.\n",
      "==============================================================================\n",
      "\n",
      "Notes:\n",
      "[1] Standard Errors assume that the covariance matrix of the errors is correctly specified.\n"
     ]
    }
   ],
   "source": [
    "# Display results summary\n",
    "print(result.summary())"
   ]
  },
  {
   "cell_type": "markdown",
   "metadata": {},
   "source": [
    "# Findings \n",
    "\n",
    " The ordinary least square  regression was used to test if  movie length(runtime_minutes) significantly predicted doemestic sales.\n",
    " \n",
    "Coefficients:\n",
    "The intercept (const) is  -18,440,000.\n",
    "runtime_minutes  6.351e+05 \n",
    "The fitted regression model was:Domestic gross= -18,440,000+6.351e+05*runtime_minutes\n",
    "\n",
    "The coefficient for the predictor variable runtime_minutes is approximately 635,100. This means that for each additional minute of runtime, the domestic gross is estimated to increase by approximately $635,100.\n",
    "\n",
    "R-squared:  0.025\n",
    "Adjusted R-squared: 0.024.\n",
    "R-squared is 0.025, indicating that approximately 2.5 percent of the variance in domestic gross is explained by the predictor variable (runtime_minutes).\n",
    "\n",
    "F-statistic: 44.97 and  low probability (p < 0.001)indicating that the overall model is statistically significant.\n",
    "\n",
    "\n",
    "Overall the regression model suggests that there is a statistically significant positive relationship between the runtime of movies and their domestic gross. However, the R-squared value indicates that the model explains only a small proportion of the variance in domestic gross, suggesting that other factors not included in the model is  influencing domestic gross.\n"
   ]
  },
  {
   "cell_type": "markdown",
   "metadata": {},
   "source": [
    "\n",
    "Run a Simple Linear Regression with rating  as the independent variable  and global sales as dependent "
   ]
  },
  {
   "cell_type": "code",
   "execution_count": 56,
   "metadata": {},
   "outputs": [],
   "source": [
    "# Runtime as the predictor of domestic sales\n",
    "# Determine X and y values(defining the variables)\n",
    "x = movie_db['averagerating']\n",
    "y = movie_db['global_sales']\n",
    " # adding the constant term\n",
    "    \n",
    "x = sm.add_constant(x)\n",
    "\n",
    "model = sm.OLS(y, x)\n",
    "\n",
    "#fit linear regression model\n",
    "result=model.fit()"
   ]
  },
  {
   "cell_type": "code",
   "execution_count": 57,
   "metadata": {
    "scrolled": true
   },
   "outputs": [
    {
     "name": "stdout",
     "output_type": "stream",
     "text": [
      "                            OLS Regression Results                            \n",
      "==============================================================================\n",
      "Dep. Variable:           global_sales   R-squared:                       0.029\n",
      "Model:                            OLS   Adj. R-squared:                  0.028\n",
      "Method:                 Least Squares   F-statistic:                     52.69\n",
      "Date:                Tue, 09 Apr 2024   Prob (F-statistic):           5.84e-13\n",
      "Time:                        19:29:41   Log-Likelihood:                -36344.\n",
      "No. Observations:                1767   AIC:                         7.269e+04\n",
      "Df Residuals:                    1765   BIC:                         7.270e+04\n",
      "Df Model:                           1                                         \n",
      "Covariance Type:            nonrobust                                         \n",
      "=================================================================================\n",
      "                    coef    std err          t      P>|t|      [0.025      0.975]\n",
      "---------------------------------------------------------------------------------\n",
      "const         -1.037e+08   3.25e+07     -3.189      0.001   -1.68e+08   -3.99e+07\n",
      "averagerating  3.613e+07   4.98e+06      7.259      0.000    2.64e+07    4.59e+07\n",
      "==============================================================================\n",
      "Omnibus:                     1039.684   Durbin-Watson:                   1.645\n",
      "Prob(Omnibus):                  0.000   Jarque-Bera (JB):             8062.471\n",
      "Skew:                           2.750   Prob(JB):                         0.00\n",
      "Kurtosis:                      11.903   Cond. No.                         44.1\n",
      "==============================================================================\n",
      "\n",
      "Notes:\n",
      "[1] Standard Errors assume that the covariance matrix of the errors is correctly specified.\n"
     ]
    }
   ],
   "source": [
    "# Display results summary\n",
    "print(result.summary())"
   ]
  },
  {
   "cell_type": "markdown",
   "metadata": {},
   "source": [
    "The ordinary least square  regression was used to test if  movie ratings(averagerating) significantly predicted global sales\n",
    " \n",
    "Coefficients:\n",
    "The intercept (const) is  --1.037e+08 \n",
    "averagerating   3.613e+07\n",
    "The fitted regression model was:Global sales = -1.037e+08 +3.613e+07*averagerating\n",
    "\n",
    "The coefficient for the predictor variable averagerating is approximately 36 million dollars . This means that for each additional  unit of average rating  the global sales is estimated to increase by approximately 36M dollars.\n",
    "\n",
    "R-squared:  0.029\n",
    "Adjusted R-squared: 0.028.\n",
    "R-squared is 0.029, indicating that approximately 2.9 percent of the variance in global sales is explained by the predictor variable (averagerating).\n",
    "\n",
    "F-statistic: 52.69 and  low probability (p < 0.001)indicating that the overall model is statistically significant.\n",
    "\n",
    "\n",
    "Overall the regression model suggests that there is a statistically significant positive relationship between the  averageratings of movies and their global sales. However, the R-squared value indicates that the model explains only a small proportion of the variance in global sales, suggesting that other factors not included in the model is  influencing global sales.\n"
   ]
  },
  {
   "cell_type": "code",
   "execution_count": 58,
   "metadata": {},
   "outputs": [],
   "source": [
    "# Runtime as the predictor of average rating\n",
    "# Determine X and y values(defining the variables)\n",
    "x = movie_db['runtime_minutes']\n",
    "y = movie_db['averagerating']\n",
    "   \n",
    "x = sm.add_constant(x)\n",
    "\n",
    "model = sm.OLS(y, x)\n",
    "\n",
    "#fit linear regression model\n",
    "result=model.fit()"
   ]
  },
  {
   "cell_type": "code",
   "execution_count": 59,
   "metadata": {},
   "outputs": [
    {
     "name": "stdout",
     "output_type": "stream",
     "text": [
      "                            OLS Regression Results                            \n",
      "==============================================================================\n",
      "Dep. Variable:          averagerating   R-squared:                       0.061\n",
      "Model:                            OLS   Adj. R-squared:                  0.061\n",
      "Method:                 Least Squares   F-statistic:                     115.1\n",
      "Date:                Tue, 09 Apr 2024   Prob (F-statistic):           4.64e-26\n",
      "Time:                        19:29:41   Log-Likelihood:                -2435.0\n",
      "No. Observations:                1767   AIC:                             4874.\n",
      "Df Residuals:                    1765   BIC:                             4885.\n",
      "Df Model:                           1                                         \n",
      "Covariance Type:            nonrobust                                         \n",
      "===================================================================================\n",
      "                      coef    std err          t      P>|t|      [0.025      0.975]\n",
      "-----------------------------------------------------------------------------------\n",
      "const               5.1438      0.125     41.228      0.000       4.899       5.388\n",
      "runtime_minutes     0.0122      0.001     10.729      0.000       0.010       0.014\n",
      "==============================================================================\n",
      "Omnibus:                      220.033   Durbin-Watson:                   1.952\n",
      "Prob(Omnibus):                  0.000   Jarque-Bera (JB):              428.382\n",
      "Skew:                          -0.777   Prob(JB):                     9.51e-94\n",
      "Kurtosis:                       4.845   Cond. No.                         599.\n",
      "==============================================================================\n",
      "\n",
      "Notes:\n",
      "[1] Standard Errors assume that the covariance matrix of the errors is correctly specified.\n"
     ]
    }
   ],
   "source": [
    "# Display results summary\n",
    "print(result.summary())"
   ]
  },
  {
   "cell_type": "markdown",
   "metadata": {},
   "source": [
    "# Findings \n",
    "The R-squared value, is 0.061. This suggests that approximately 6.1% of the variance in movie ratings can be explained by the independent variable (runtime_minutes).\n",
    "\n",
    "Coefficients:\n",
    "The coefficient for the runtime_minutes variable is 0.0122. \n",
    "This indicates that, on average, for each additional minute in the runtime of a movie, the average rating is expected to increase by approximately 0.0122 units.\n",
    "\n",
    "The F-statistic is 115.1 with a very low p-value (4.64e-26), indicating that the overall regression model is statistically significant.\n",
    "\n",
    " The regression results indicate that there is a statistically significant but modest positive relationship between movie runtime and average rating. The model explains only a small proportion of the variance in movie ratings, suggesting that other factors beyond runtime also influence the average rating of movies."
   ]
  },
  {
   "cell_type": "markdown",
   "metadata": {},
   "source": [
    "movie_df= movie_db\n",
    "    # Convert categorical genres to numeric for regression analysis \n",
    "# One hot encoding\n",
    "Y=  movie_df['global_sales']\n",
    "X= movie_df['genres']\n",
    "X=pd.get_dummies(X, columns=['genres'], drop_first=True, dtype=int )\n",
    "X"
   ]
  },
  {
   "cell_type": "markdown",
   "metadata": {},
   "source": [
    "model = sm.OLS(Y, X)\n",
    "result=model.fit()\n",
    "\n",
    "# Display results summary\n",
    "print(result.summary())"
   ]
  },
  {
   "cell_type": "markdown",
   "metadata": {},
   "source": [
    "# Findings\n",
    "Uncentered R-squared value of 0.610 indicates that approximately 61.0% of the variance in the global sales  variable is \n",
    "explained by the genres in the model.\n",
    "\n",
    "Uncentered adjusted  R-squared value of 0.543 indicates that approximately 54.3% of the variance in the global sales of movies \n",
    "is explained by the genres, after adjusting for the number of predictors.\n",
    "\n",
    "The model provides a reasonably good fit to the data. "
   ]
  },
  {
   "cell_type": "code",
   "execution_count": 62,
   "metadata": {},
   "outputs": [
    {
     "data": {
      "text/html": [
       "<div>\n",
       "<style scoped>\n",
       "    .dataframe tbody tr th:only-of-type {\n",
       "        vertical-align: middle;\n",
       "    }\n",
       "\n",
       "    .dataframe tbody tr th {\n",
       "        vertical-align: top;\n",
       "    }\n",
       "\n",
       "    .dataframe thead th {\n",
       "        text-align: right;\n",
       "    }\n",
       "</style>\n",
       "<table border=\"1\" class=\"dataframe\">\n",
       "  <thead>\n",
       "    <tr style=\"text-align: right;\">\n",
       "      <th></th>\n",
       "      <th>title</th>\n",
       "      <th>runtime_minutes</th>\n",
       "      <th>genres</th>\n",
       "      <th>averagerating</th>\n",
       "      <th>domestic_gross</th>\n",
       "      <th>foreign_gross</th>\n",
       "      <th>year</th>\n",
       "      <th>global_sales</th>\n",
       "      <th>numeric_genres</th>\n",
       "    </tr>\n",
       "  </thead>\n",
       "  <tbody>\n",
       "    <tr>\n",
       "      <th>0</th>\n",
       "      <td>On the Road</td>\n",
       "      <td>124.0</td>\n",
       "      <td>Adventure,Drama,Romance</td>\n",
       "      <td>6.1</td>\n",
       "      <td>744000.0</td>\n",
       "      <td>8000000.0</td>\n",
       "      <td>2012</td>\n",
       "      <td>8744000.0</td>\n",
       "      <td>84</td>\n",
       "    </tr>\n",
       "    <tr>\n",
       "      <th>1</th>\n",
       "      <td>On the Road</td>\n",
       "      <td>89.0</td>\n",
       "      <td>Drama</td>\n",
       "      <td>6.0</td>\n",
       "      <td>744000.0</td>\n",
       "      <td>8000000.0</td>\n",
       "      <td>2012</td>\n",
       "      <td>8744000.0</td>\n",
       "      <td>195</td>\n",
       "    </tr>\n",
       "    <tr>\n",
       "      <th>2</th>\n",
       "      <td>On the Road</td>\n",
       "      <td>121.0</td>\n",
       "      <td>Drama</td>\n",
       "      <td>5.7</td>\n",
       "      <td>744000.0</td>\n",
       "      <td>8000000.0</td>\n",
       "      <td>2012</td>\n",
       "      <td>8744000.0</td>\n",
       "      <td>195</td>\n",
       "    </tr>\n",
       "    <tr>\n",
       "      <th>3</th>\n",
       "      <td>The Secret Life of Walter Mitty</td>\n",
       "      <td>114.0</td>\n",
       "      <td>Adventure,Comedy,Drama</td>\n",
       "      <td>7.3</td>\n",
       "      <td>58200000.0</td>\n",
       "      <td>129900000.0</td>\n",
       "      <td>2013</td>\n",
       "      <td>188100000.0</td>\n",
       "      <td>69</td>\n",
       "    </tr>\n",
       "    <tr>\n",
       "      <th>4</th>\n",
       "      <td>A Walk Among the Tombstones</td>\n",
       "      <td>114.0</td>\n",
       "      <td>Action,Crime,Drama</td>\n",
       "      <td>6.5</td>\n",
       "      <td>26300000.0</td>\n",
       "      <td>26900000.0</td>\n",
       "      <td>2014</td>\n",
       "      <td>53200000.0</td>\n",
       "      <td>33</td>\n",
       "    </tr>\n",
       "    <tr>\n",
       "      <th>...</th>\n",
       "      <td>...</td>\n",
       "      <td>...</td>\n",
       "      <td>...</td>\n",
       "      <td>...</td>\n",
       "      <td>...</td>\n",
       "      <td>...</td>\n",
       "      <td>...</td>\n",
       "      <td>...</td>\n",
       "      <td>...</td>\n",
       "    </tr>\n",
       "    <tr>\n",
       "      <th>1762</th>\n",
       "      <td>Detective Chinatown 2</td>\n",
       "      <td>121.0</td>\n",
       "      <td>Action,Comedy,Mystery</td>\n",
       "      <td>6.1</td>\n",
       "      <td>2000000.0</td>\n",
       "      <td>542100000.0</td>\n",
       "      <td>2018</td>\n",
       "      <td>544100000.0</td>\n",
       "      <td>25</td>\n",
       "    </tr>\n",
       "    <tr>\n",
       "      <th>1763</th>\n",
       "      <td>Hereditary</td>\n",
       "      <td>127.0</td>\n",
       "      <td>Drama,Horror,Mystery</td>\n",
       "      <td>7.3</td>\n",
       "      <td>44100000.0</td>\n",
       "      <td>35300000.0</td>\n",
       "      <td>2018</td>\n",
       "      <td>79400000.0</td>\n",
       "      <td>210</td>\n",
       "    </tr>\n",
       "    <tr>\n",
       "      <th>1764</th>\n",
       "      <td>Nobody's Fool</td>\n",
       "      <td>110.0</td>\n",
       "      <td>Comedy,Drama,Romance</td>\n",
       "      <td>4.6</td>\n",
       "      <td>31700000.0</td>\n",
       "      <td>1800000.0</td>\n",
       "      <td>2018</td>\n",
       "      <td>33500000.0</td>\n",
       "      <td>145</td>\n",
       "    </tr>\n",
       "    <tr>\n",
       "      <th>1765</th>\n",
       "      <td>How Long Will I Love U</td>\n",
       "      <td>101.0</td>\n",
       "      <td>Romance</td>\n",
       "      <td>6.5</td>\n",
       "      <td>747000.0</td>\n",
       "      <td>82100000.0</td>\n",
       "      <td>2018</td>\n",
       "      <td>82847000.0</td>\n",
       "      <td>254</td>\n",
       "    </tr>\n",
       "    <tr>\n",
       "      <th>1766</th>\n",
       "      <td>Burn the Stage: The Movie</td>\n",
       "      <td>84.0</td>\n",
       "      <td>Documentary,Music</td>\n",
       "      <td>8.8</td>\n",
       "      <td>4200000.0</td>\n",
       "      <td>16100000.0</td>\n",
       "      <td>2018</td>\n",
       "      <td>20300000.0</td>\n",
       "      <td>192</td>\n",
       "    </tr>\n",
       "  </tbody>\n",
       "</table>\n",
       "<p>1767 rows × 9 columns</p>\n",
       "</div>"
      ],
      "text/plain": [
       "                                title  runtime_minutes  \\\n",
       "0                         On the Road            124.0   \n",
       "1                         On the Road             89.0   \n",
       "2                         On the Road            121.0   \n",
       "3     The Secret Life of Walter Mitty            114.0   \n",
       "4         A Walk Among the Tombstones            114.0   \n",
       "...                               ...              ...   \n",
       "1762            Detective Chinatown 2            121.0   \n",
       "1763                       Hereditary            127.0   \n",
       "1764                    Nobody's Fool            110.0   \n",
       "1765           How Long Will I Love U            101.0   \n",
       "1766        Burn the Stage: The Movie             84.0   \n",
       "\n",
       "                       genres  averagerating  domestic_gross  foreign_gross  \\\n",
       "0     Adventure,Drama,Romance            6.1        744000.0      8000000.0   \n",
       "1                       Drama            6.0        744000.0      8000000.0   \n",
       "2                       Drama            5.7        744000.0      8000000.0   \n",
       "3      Adventure,Comedy,Drama            7.3      58200000.0    129900000.0   \n",
       "4          Action,Crime,Drama            6.5      26300000.0     26900000.0   \n",
       "...                       ...            ...             ...            ...   \n",
       "1762    Action,Comedy,Mystery            6.1       2000000.0    542100000.0   \n",
       "1763     Drama,Horror,Mystery            7.3      44100000.0     35300000.0   \n",
       "1764     Comedy,Drama,Romance            4.6      31700000.0      1800000.0   \n",
       "1765                  Romance            6.5        747000.0     82100000.0   \n",
       "1766        Documentary,Music            8.8       4200000.0     16100000.0   \n",
       "\n",
       "      year  global_sales  numeric_genres  \n",
       "0     2012     8744000.0              84  \n",
       "1     2012     8744000.0             195  \n",
       "2     2012     8744000.0             195  \n",
       "3     2013   188100000.0              69  \n",
       "4     2014    53200000.0              33  \n",
       "...    ...           ...             ...  \n",
       "1762  2018   544100000.0              25  \n",
       "1763  2018    79400000.0             210  \n",
       "1764  2018    33500000.0             145  \n",
       "1765  2018    82847000.0             254  \n",
       "1766  2018    20300000.0             192  \n",
       "\n",
       "[1767 rows x 9 columns]"
      ]
     },
     "execution_count": 62,
     "metadata": {},
     "output_type": "execute_result"
    }
   ],
   "source": [
    "from sklearn.preprocessing import LabelEncoder\n",
    "# Convert categorical genres to numeric for regression analysis\n",
    "# Initialize LabelEncoder\n",
    "label_encoder = LabelEncoder()\n",
    "# Fit label encoder and transform the column to numeric labels\n",
    "movie_db['numeric_genres'] = label_encoder.fit_transform(movie_db['genres'])\n",
    "\n",
    "#  'numeric_genres' contains the numeric representation of each category in the DataFrame\n",
    "movie_db\n"
   ]
  },
  {
   "cell_type": "markdown",
   "metadata": {},
   "source": [
    "x=movie_db[['genres', 'numeric_genres']]\n",
    "x"
   ]
  },
  {
   "cell_type": "code",
   "execution_count": 63,
   "metadata": {},
   "outputs": [],
   "source": [
    "# Determine X and y values(defining the variables)\n",
    "x = movie_db['numeric_genres']\n",
    "y = movie_db['global_sales']\n",
    " # adding the constant term\n",
    "    \n",
    "x = sm.add_constant(x)\n",
    "\n",
    "# Create an OLS model\n",
    "\n",
    "model = sm.OLS(y, x)\n",
    "\n",
    "#fit linear regression model\n",
    "result=model.fit()"
   ]
  },
  {
   "cell_type": "code",
   "execution_count": 64,
   "metadata": {},
   "outputs": [
    {
     "name": "stdout",
     "output_type": "stream",
     "text": [
      "                            OLS Regression Results                            \n",
      "==============================================================================\n",
      "Dep. Variable:           global_sales   R-squared:                       0.122\n",
      "Model:                            OLS   Adj. R-squared:                  0.122\n",
      "Method:                 Least Squares   F-statistic:                     245.5\n",
      "Date:                Tue, 09 Apr 2024   Prob (F-statistic):           6.61e-52\n",
      "Time:                        19:29:42   Log-Likelihood:                -36255.\n",
      "No. Observations:                1767   AIC:                         7.251e+04\n",
      "Df Residuals:                    1765   BIC:                         7.252e+04\n",
      "Df Model:                           1                                         \n",
      "Covariance Type:            nonrobust                                         \n",
      "==================================================================================\n",
      "                     coef    std err          t      P>|t|      [0.025      0.975]\n",
      "----------------------------------------------------------------------------------\n",
      "const           2.505e+08   9.03e+06     27.755      0.000    2.33e+08    2.68e+08\n",
      "numeric_genres -9.599e+05   6.13e+04    -15.668      0.000   -1.08e+06    -8.4e+05\n",
      "==============================================================================\n",
      "Omnibus:                     1009.332   Durbin-Watson:                   1.668\n",
      "Prob(Omnibus):                  0.000   Jarque-Bera (JB):             7853.128\n",
      "Skew:                           2.640   Prob(JB):                         0.00\n",
      "Kurtosis:                      11.876   Cond. No.                         284.\n",
      "==============================================================================\n",
      "\n",
      "Notes:\n",
      "[1] Standard Errors assume that the covariance matrix of the errors is correctly specified.\n"
     ]
    }
   ],
   "source": [
    "# Display results summary\n",
    "print(result.summary())"
   ]
  },
  {
   "cell_type": "code",
   "execution_count": 65,
   "metadata": {},
   "outputs": [],
   "source": [
    "# Findings "
   ]
  },
  {
   "cell_type": "markdown",
   "metadata": {},
   "source": [
    "# Define x-values (runtime_minutes) and y-values (foreign_gross)\n",
    "x = movie_df['numeric_genres']\n",
    "y = movie_df['global_sales']\n",
    "\n",
    "# Calculate predicted y-values using coefficients from regression\n",
    "m =  -9.599e+05 # Coefficient for runtime_minutes\n",
    "b = 2.505e+08  # Intercept\n",
    "y_pred = m * x + b\n",
    "\n",
    "# Plot observed data and best fit line\n",
    "plt.scatter(x, y, label='Observed Data', color='blue')\n",
    "plt.plot(x, y_pred, color='red', label='Best Fit Line')\n",
    "\n",
    "# Add labels and title\n",
    "plt.xlabel('Genres)')\n",
    "plt.ylabel('Global Sales')\n",
    "plt.title('Best Fit Line for Genres vs Global Sales')\n",
    "plt.legend()\n",
    "\n",
    "# Show plot\n",
    "plt.show()"
   ]
  },
  {
   "cell_type": "code",
   "execution_count": 66,
   "metadata": {},
   "outputs": [
    {
     "name": "stderr",
     "output_type": "stream",
     "text": [
      "No handles with labels found to put in legend.\n"
     ]
    },
    {
     "data": {
      "text/plain": [
       "<matplotlib.legend.Legend at 0x2711cb3d460>"
      ]
     },
     "execution_count": 66,
     "metadata": {},
     "output_type": "execute_result"
    },
    {
     "data": {
      "image/png": "[encoded data removed]",
      "text/plain": [
       "<Figure size 432x288 with 1 Axes>"
      ]
     },
     "metadata": {},
     "output_type": "display_data"
    }
   ],
   "source": [
    "# Visualize the relationship between the genres and the global sales using scatter plots\n",
    "movie_db.plot(x=\"numeric_genres\", y=\"global_sales\", kind=\"scatter\")\n",
    "# Add labels and title\n",
    "plt.xlabel('Genres')\n",
    "plt.ylabel('Global Sales')\n",
    "plt.title(' Global Market by Genres')\n",
    "plt.legend()\n"
   ]
  },
  {
   "cell_type": "markdown",
   "metadata": {},
   "source": [
    "# Findings\n",
    "A clear relationship between genres and sales is not established, further investigation is needed to understand the impact of genre on global sales. Additional factors beyond genre are likely influencing movie sales."
   ]
  },
  {
   "cell_type": "code",
   "execution_count": 67,
   "metadata": {},
   "outputs": [
    {
     "name": "stderr",
     "output_type": "stream",
     "text": [
      "No handles with labels found to put in legend.\n"
     ]
    },
    {
     "data": {
      "text/plain": [
       "<matplotlib.legend.Legend at 0x2711c827430>"
      ]
     },
     "execution_count": 67,
     "metadata": {},
     "output_type": "execute_result"
    },
    {
     "data": {
      "image/png": "[encoded data removed]",
      "text/plain": [
       "<Figure size 432x288 with 1 Axes>"
      ]
     },
     "metadata": {},
     "output_type": "display_data"
    }
   ],
   "source": [
    "# Visualize the relationship between the genres and the runtime using scatter plots\n",
    "movie_db.plot(x=\"numeric_genres\", y=\"runtime_minutes\", kind=\"scatter\")\n",
    "# Add labels and title\n",
    "plt.xlabel('Genres')\n",
    "plt.ylabel('Movie Length')\n",
    "plt.title(' Movie Length by Genres')\n",
    "plt.legend()\n",
    "\n",
    "                "
   ]
  },
  {
   "cell_type": "markdown",
   "metadata": {},
   "source": [
    "# Conclusion \n",
    "\n",
    " 1.\tBetween 2010 and 2018, the quantity of movies produced saw a decline. However, market performance over these years demonstrated significant upward trends in both foreign and global sales, while domestic sales showed a moderate increase. This indicates an inverse relationship between the variables during the specified period.\n",
    " 2. The genre most frequently observed is \"Drama.\"\n",
    " 3. Analysis reveals that the top-ranking genres with the highest average ratings are \"Adventure\", \"Action, Sport\", and \"Drama, Western\".\n",
    " 4. The top global grossing genres are identified as \"Action, Adventure, Sci-Fi\", \"Adventure, Animation, Comedy\", and \"Action, Adventure, Fantasy\".\n",
    " 5.\tA comparison of domestic and foreign sales by genre highlights that the top genres for domestic sales include \"Action, Adventure, Sci-Fi\", \"Adventure, Animation, Comedy\", and \"Action, Adventure, Fantasy\". Conversely, leading genres for foreign sales comprise \"Adventure, Animation, Comedy\", \"Action, Adventure, Sci-Fi\", and \"Action, Adventure, Fantasy\".\n",
    " 6.\tDetermining the mean runtime duration for each genre category, it is observed that the top three genres with the lengthiest average runtimes are \"Drama, Western\", \"Adventure, Drama, Sci-Fi\", and \"Drama, History, Sports\". Conversely, genres with the shortest average durations include \"Action, Sport\", \"Adventure, Comedy, Horror\", and \"Documentary, News\".\n",
    " 7.\tMovies with a runtime of 59 minutes generated the highest global gross sales, amounting to 8.5B.\n",
    " 8. Analysis of movie runtimes across different markets reveals that a runtime of 59 minutes emerged as the top performer, leading both the domestic market with 3.5B dollars and the foreign market with 5B dollars. Following closely in the domestic market were runtimes of 152 and 149 minutes, while in the foreign markets, they were 147 and 143 minutes, respectively.\n",
    " 9.\tAnalysis of the average movie length and average rating showed that movies with lengths of 192 minutes enjoyed the highest ratings, followed by those with lengths of 45 and 47 minutes.\n",
    " 10.\tThe Ordinary Least Squares (OLS) analysis yielded the following results:\n",
    " \n",
    " • For movie length and global sales, the R-squared value was 0.036, indicating that approximately 3.6% of the variability in global sales can be explained by movie length.\n",
    " \n",
    " •\tMovie length and domestic sales had an R-squared value of 0.025, suggesting that approximately 2.5% of the variance in domestic gross is explained by movie length.\n",
    " \n",
    " •\tMovie ratings and global sales yielded an R-squared value of 0.029, indicating that approximately 2.9% of the variance in global sales is explained by movie ratings.\n",
    " \n",
    " •\tThe R-squared value for movie length and movie ratings was 0.061, suggesting that approximately 6.1% of the variance in movie ratings can be explained by movie length.\n",
    " \n",
    " •\tGenres and global sales had an R-squared value of 0.122, indicating that approximately 12.2% of the variability in global sales can be explained by genres.\n",
    "\n",
    "All OLS analyses were statistically significant. However, the low R-squared values suggest that the model explains only a small proportion of the variances in the dependent variables, indicating the influence of other factors not included in the model.\n",
    "\n"
   ]
  }
 ],
 "metadata": {
  "kernelspec": {
   "display_name": "Python (learn-env)",
   "language": "python",
   "name": "learn-env"
  },
  "language_info": {
   "codemirror_mode": {
    "name": "ipython",
    "version": 3
   },
   "file_extension": ".py",
   "mimetype": "text/x-python",
   "name": "python",
   "nbconvert_exporter": "python",
   "pygments_lexer": "ipython3",
   "version": "3.8.5"
  }
 },
 "nbformat": 4,
 "nbformat_minor": 2
}
